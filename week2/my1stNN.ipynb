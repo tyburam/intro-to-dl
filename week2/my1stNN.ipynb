{
 "cells": [
  {
   "cell_type": "markdown",
   "metadata": {
    "slideshow": {
     "slide_type": "slide"
    }
   },
   "source": [
    "# my1stNN.ipynb (or MNIST digits classification with TensorFlow)"
   ]
  },
  {
   "cell_type": "markdown",
   "metadata": {},
   "source": [
    "<img src=\"mnist_sample.png\" style=\"width:30%\">"
   ]
  },
  {
   "cell_type": "markdown",
   "metadata": {},
   "source": [
    "### This task will be submitted for peer review, so make sure it contains all the necessary outputs!"
   ]
  },
  {
   "cell_type": "code",
   "execution_count": 1,
   "metadata": {},
   "outputs": [
    {
     "name": "stdout",
     "output_type": "stream",
     "text": [
      "We're using TF 1.13.0-rc1\n"
     ]
    },
    {
     "name": "stderr",
     "output_type": "stream",
     "text": [
      "Using TensorFlow backend.\n"
     ]
    }
   ],
   "source": [
    "import numpy as np\n",
    "from sklearn.metrics import accuracy_score\n",
    "from matplotlib import pyplot as plt\n",
    "%matplotlib inline\n",
    "import tensorflow as tf\n",
    "print(\"We're using TF\", tf.__version__)\n",
    "\n",
    "import sys\n",
    "sys.path.append(\"..\")\n",
    "import grading\n",
    "\n",
    "import matplotlib_utils\n",
    "from importlib import reload\n",
    "reload(matplotlib_utils)\n",
    "\n",
    "import keras_utils\n",
    "from keras_utils import reset_tf_session"
   ]
  },
  {
   "cell_type": "markdown",
   "metadata": {},
   "source": [
    "# Look at the data\n",
    "\n",
    "In this task we have 50000 28x28 images of digits from 0 to 9.\n",
    "We will train a classifier on this data."
   ]
  },
  {
   "cell_type": "code",
   "execution_count": 2,
   "metadata": {},
   "outputs": [
    {
     "name": "stdout",
     "output_type": "stream",
     "text": [
      "Downloading data from https://s3.amazonaws.com/img-datasets/mnist.npz\n",
      "11493376/11490434 [==============================] - 8s 1us/step\n"
     ]
    }
   ],
   "source": [
    "import preprocessed_mnist\n",
    "X_train, y_train, X_val, y_val, X_test, y_test = preprocessed_mnist.load_dataset()"
   ]
  },
  {
   "cell_type": "code",
   "execution_count": 3,
   "metadata": {},
   "outputs": [
    {
     "name": "stdout",
     "output_type": "stream",
     "text": [
      "X_train [shape (50000, 28, 28)] sample patch:\n",
      " [[0.         0.29803922 0.96470588 0.98823529 0.43921569]\n",
      " [0.         0.33333333 0.98823529 0.90196078 0.09803922]\n",
      " [0.         0.33333333 0.98823529 0.8745098  0.        ]\n",
      " [0.         0.33333333 0.98823529 0.56862745 0.        ]\n",
      " [0.         0.3372549  0.99215686 0.88235294 0.        ]]\n",
      "A closeup of a sample patch:\n"
     ]
    },
    {
     "data": {
      "image/png": "[encoded data removed]",
      "text/plain": [
       "<Figure size 432x288 with 1 Axes>"
      ]
     },
     "metadata": {
      "needs_background": "light"
     },
     "output_type": "display_data"
    },
    {
     "name": "stdout",
     "output_type": "stream",
     "text": [
      "And the whole sample:\n"
     ]
    },
    {
     "data": {
      "image/png": "[encoded data removed]",
      "text/plain": [
       "<Figure size 432x288 with 1 Axes>"
      ]
     },
     "metadata": {
      "needs_background": "light"
     },
     "output_type": "display_data"
    },
    {
     "name": "stdout",
     "output_type": "stream",
     "text": [
      "y_train [shape (50000,)] 10 samples:\n",
      " [5 0 4 1 9 2 1 3 1 4]\n"
     ]
    }
   ],
   "source": [
    "# X contains rgb values divided by 255\n",
    "print(\"X_train [shape %s] sample patch:\\n\" % (str(X_train.shape)), X_train[1, 15:20, 5:10])\n",
    "print(\"A closeup of a sample patch:\")\n",
    "plt.imshow(X_train[1, 15:20, 5:10], cmap=\"Greys\")\n",
    "plt.show()\n",
    "print(\"And the whole sample:\")\n",
    "plt.imshow(X_train[1], cmap=\"Greys\")\n",
    "plt.show()\n",
    "print(\"y_train [shape %s] 10 samples:\\n\" % (str(y_train.shape)), y_train[:10])"
   ]
  },
  {
   "cell_type": "markdown",
   "metadata": {},
   "source": [
    "# Linear model\n",
    "\n",
    "Your task is to train a linear classifier $\\vec{x} \\rightarrow y$ with SGD using TensorFlow.\n",
    "\n",
    "You will need to calculate a logit (a linear transformation) $z_k$ for each class: \n",
    "$$z_k = \\vec{x} \\cdot \\vec{w_k} + b_k \\quad k = 0..9$$\n",
    "\n",
    "And transform logits $z_k$ to valid probabilities $p_k$ with softmax: \n",
    "$$p_k = \\frac{e^{z_k}}{\\sum_{i=0}^{9}{e^{z_i}}} \\quad k = 0..9$$\n",
    "\n",
    "We will use a cross-entropy loss to train our multi-class classifier:\n",
    "$$\\text{cross-entropy}(y, p) = -\\sum_{k=0}^{9}{\\log(p_k)[y = k]}$$ \n",
    "\n",
    "where \n",
    "$$\n",
    "[x]=\\begin{cases}\n",
    "       1, \\quad \\text{if $x$ is true} \\\\\n",
    "       0, \\quad \\text{otherwise}\n",
    "    \\end{cases}\n",
    "$$\n",
    "\n",
    "Cross-entropy minimization pushes $p_k$ close to 1 when $y = k$, which is what we want.\n",
    "\n",
    "Here's the plan:\n",
    "* Flatten the images (28x28 -> 784) with `X_train.reshape((X_train.shape[0], -1))` to simplify our linear model implementation\n",
    "* Use a matrix placeholder for flattened `X_train`\n",
    "* Convert `y_train` to one-hot encoded vectors that are needed for cross-entropy\n",
    "* Use a shared variable `W` for all weights (a column $\\vec{w_k}$ per class) and `b` for all biases.\n",
    "* Aim for ~0.93 validation accuracy"
   ]
  },
  {
   "cell_type": "code",
   "execution_count": 4,
   "metadata": {},
   "outputs": [
    {
     "name": "stdout",
     "output_type": "stream",
     "text": [
      "(50000, 784)\n",
      "(10000, 784)\n"
     ]
    }
   ],
   "source": [
    "X_train_flat = X_train.reshape((X_train.shape[0], -1))\n",
    "print(X_train_flat.shape)\n",
    "\n",
    "X_val_flat = X_val.reshape((X_val.shape[0], -1))\n",
    "print(X_val_flat.shape)"
   ]
  },
  {
   "cell_type": "code",
   "execution_count": 5,
   "metadata": {},
   "outputs": [
    {
     "name": "stdout",
     "output_type": "stream",
     "text": [
      "(50000, 10)\n",
      "[[0. 0. 0. 0. 0. 1. 0. 0. 0. 0.]\n",
      " [1. 0. 0. 0. 0. 0. 0. 0. 0. 0.]\n",
      " [0. 0. 0. 0. 1. 0. 0. 0. 0. 0.]] [5 0 4]\n"
     ]
    }
   ],
   "source": [
    "import keras  # we use keras only for keras.utils.to_categorical\n",
    "\n",
    "y_train_oh = keras.utils.to_categorical(y_train, 10)\n",
    "y_val_oh = keras.utils.to_categorical(y_val, 10)\n",
    "\n",
    "print(y_train_oh.shape)\n",
    "print(y_train_oh[:3], y_train[:3])"
   ]
  },
  {
   "cell_type": "code",
   "execution_count": 54,
   "metadata": {},
   "outputs": [],
   "source": [
    "# run this again if you remake your graph\n",
    "s = reset_tf_session()"
   ]
  },
  {
   "cell_type": "code",
   "execution_count": 55,
   "metadata": {},
   "outputs": [],
   "source": [
    "# Model parameters: W and b\n",
    "W = tf.get_variable(\"W\", shape=(X_train_flat.shape[1], y_train_oh.shape[1]), dtype=tf.float32) ### YOUR CODE HERE ### tf.get_variable(...) with shape[0] = 784\n",
    "b = tf.get_variable(\"b\",shape=(y_train_oh.shape[1]),dtype=tf.float32) ### YOUR CODE HERE ### tf.get_variable(...)"
   ]
  },
  {
   "cell_type": "code",
   "execution_count": 56,
   "metadata": {},
   "outputs": [],
   "source": [
    "# Placeholders for the input data\n",
    "input_X = tf.placeholder(tf.float32, shape=(None, X_train_flat.shape[1]), name=\"X\") ### YOUR CODE HERE ### tf.placeholder(...) for flat X with shape[0] = None for any batch size\n",
    "input_y = tf.placeholder(tf.float32, shape=(None, y_train_oh.shape[1]), name=\"y\")### YOUR CODE HERE ### tf.placeholder(...) for one-hot encoded true labels"
   ]
  },
  {
   "cell_type": "code",
   "execution_count": 57,
   "metadata": {},
   "outputs": [],
   "source": [
    "# Compute predictions\n",
    "logits = (input_X @ W) + b ### YOUR CODE HERE ### logits for input_X, resulting shape should be [input_X.shape[0], 10]\n",
    "probas = tf.nn.softmax(logits) ### YOUR CODE HERE ### apply tf.nn.softmax to logits\n",
    "classes = tf.argmax(probas, axis=1) ### YOUR CODE HERE ### apply tf.argmax to find a class index with highest probability\n",
    "\n",
    "# Loss should be a scalar number: average loss over all the objects with tf.reduce_mean().\n",
    "# Use tf.nn.softmax_cross_entropy_with_logits on top of one-hot encoded input_y and logits.\n",
    "# It is identical to calculating cross-entropy on top of probas, but is more numerically friendly (read the docs).\n",
    "loss = tf.reduce_mean(tf.nn.softmax_cross_entropy_with_logits(logits=logits, labels=input_y)) ### YOUR CODE HERE ### cross-entropy loss\n",
    "\n",
    "# Use a default tf.train.AdamOptimizer to get an SGD step\n",
    "step = tf.train.AdamOptimizer(0.001).minimize(loss) ### YOUR CODE HERE ### optimizer step that minimizes the loss"
   ]
  },
  {
   "cell_type": "code",
   "execution_count": 58,
   "metadata": {
    "scrolled": false
   },
   "outputs": [
    {
     "data": {
      "text/html": [
       "<img src=\"data:image/jpeg;base64,/9j/4AAQSkZJRgABAQEASABIAAD/2wBDAAIBAQEBAQIBAQECAgICAgQDAgICAgUEBAMEBgUGBgYFBgYGBwkIBgcJBwYGCAsICQoKCgoKBggLDAsKDAkKCgr/2wBDAQICAgICAgUDAwUKBwYHCgoKCgoKCgoKCgoKCgoKCgoKCgoKCgoKCgoKCgoKCgoKCgoKCgoKCgoKCgoKCgoKCgr/wAARCAEgA2ADASIAAhEBAxEB/8QAHwAAAQUBAQEBAQEAAAAAAAAAAAECAwQFBgcICQoL/8QAtRAAAgEDAwIEAwUFBAQAAAF9AQIDAAQRBRIhMUEGE1FhByJxFDKBkaEII0KxwRVS0fAkM2JyggkKFhcYGRolJicoKSo0NTY3ODk6Q0RFRkdISUpTVFVWV1hZWmNkZWZnaGlqc3R1dnd4eXqDhIWGh4iJipKTlJWWl5iZmqKjpKWmp6ipqrKztLW2t7i5usLDxMXGx8jJytLT1NXW19jZ2uHi4%2BTl5ufo6erx8vP09fb3%2BPn6/8QAHwEAAwEBAQEBAQEBAQAAAAAAAAECAwQFBgcICQoL/8QAtREAAgECBAQDBAcFBAQAAQJ3AAECAxEEBSExBhJBUQdhcRMiMoEIFEKRobHBCSMzUvAVYnLRChYkNOEl8RcYGRomJygpKjU2Nzg5OkNERUZHSElKU1RVVldYWVpjZGVmZ2hpanN0dXZ3eHl6goOEhYaHiImKkpOUlZaXmJmaoqOkpaanqKmqsrO0tba3uLm6wsPExcbHyMnK0tPU1dbX2Nna4uPk5ebn6Onq8vP09fb3%2BPn6/9oADAMBAAIRAxEAPwD9/KKKKACiiigAooooAKKKKACiiigAooooAKKKKACiiigAooooAKKKKACiiigAooooAKKKKACiiigAooooAKKKKACiiigAooooAKKKKACiiigAooooAKKKKACiiigAooooAKKKKACiiigAooooAKKKKACiiigAooooAKKKKACiiigAooooAKKKKACiiigAooooAKKKKACiiigAooooAKKKKACiiigAooooAKKKKACiiigAooooAKKKKACiiigAooooAKKKKACiiigAooooAKKKKACiiigAooooAKKKKACiiigAooooAKKKKACiiigAooooAKKKKACiiigAooooAKKKKACiiigAooooAKKKKACvPfjt%2B1J8FP2b5NGsfil4g1Maj4ilnTQNB8OeF9R1zVNR8lVed4bHTbee5kjiVkMkixlI96biu5c%2BhV4N%2B0P8D/j5/wANJ%2BDv2tv2bLLwfrWueH/B2seFNX8KeOdcutLtLywv7mwuxcQXtraXj288U2noCpt3WVJSCUKK1ABpf/BTL9izWLvxPb2nxXv0h8FWsk/jLUrvwXrEFjoIS0iu9l5dy2iwWsrQzRskMjrJIWKorMrKL2n/APBQ/wDZK1HwBrXxFTx/q9vB4f1ay0vVdE1DwNrNrrkV5ebfscC6PNaLqEr3AYGER27eaAxTcFYjy2b9gH4y%2BMf2a/jn8NfGHinwppHin4o/FS38daHc6U1xeWFpeW0OiywQ3IkihkkiN3pRRwoyYHGDuJVaPi79i/8AaV%2BLmr/Ef45fG34S/CjWvFnjWx8KaPp/gKy%2BI2s2Wm6fY6Hcaldw3qa7b6al5DqDXOqTOksVoPJSKNFZiWcgHsviH9vv9mzwv4a8OeI9XvvG3meK0v5NE8P2vwm8SXGuSRWUscV3NJpMWntf28MLzQq8s0CIpmiy37xM%2Bmaz8RPBHhv4e3XxX8T%2BJbbSvDljo76rf6vqrfZYbSySIzPPMZdvlKsYLNvxtAOcYNfGHin9hH9s/WPgX4X8Nay3hfxV470a58RHRfGV/wDHbxNpGr%2BCLW%2BuUktLO11q1sJLzXIYkjhEy3qw/aTbReYCFGPUfjR/wTotfj1%2Bzb4n%2BHHxD%2BOfjW78d%2BMPhfH4Z17xS3jbWho818tpDE2oJoS3y2FuzzQLK3kRRSEPIBIrSM5AOkg/4KUfsZf8K58V/FbWPite6Jo3giysr7xQ/ifwdq%2Bk3NlZXkxhtb37LeWsVxJaSyK6pcxxtC3luQ%2BEYjj/AI3f8FZP2d/hn8ENU%2BMfgPRfFXiqbQfiD4X8L674Y/4QXXbHU7A6zqVrax3T2cmnNdeV5Fw88DeT5d48aW8MhknjB8r1T/gmJ8ZPHfwq8faR4i8DeG9G8Y%2BI9D0fR7DxDqv7RfjPxut3aWusW%2BoTRyf27AfsEZ8likUSzHe%2BGkxknv8A9qH9gz40/GD4g/F/4g%2BBfEPheOTxfB8LbzwlZ6tfXMSvf%2BE/EdzrUsN40dvJ5ENwGt4VljEzrl2MfyKrgHqFh/wUE/Zb1H4m2XwZh8T%2BJo/Fd5oun6xLoF38N9egudO0%2B9adILu/SSyU6dDut5VeS68pYiFEhQum6j4a/wCCmH7FPi3wZ4s%2BIWkfGC4TR/Bfgi68Zaxe6h4S1W0Fx4et0Z5tWsVntUbVLNVQ4nsxPGxZArEugbB0P9kP4ofEP4mfG74g/G9fD2gxfGj4O%2BHfCF1Y%2BE9duNRl0u4tE11Ltlnns7XzYwNViMT7FZikm6OPA3fN37Y37Kn7UOj/ALDHxS%2BJv7TF34AtIfhD%2BxT8QfBHhePwFqF5cNrzXukWxn1G6W5toBYqE0i3CWcbXAVppCZ22oKAPrPw9/wUl/Yy8TaHrHiPT/i1dQWehppU1/JqnhLVbJmtNSu1s7HUIUuLVGubCWdgovoQ9qoDO0qorMPT9E%2BLvw88R/FLX/gvofiH7T4k8LaXp%2Boa/YR2k22zgvmuBa7pinlF3%2ByzHy1cyKoRmVVkjLfJOofsz%2BIPFegeKfjb/wAFIvF/wz8J%2BBbf9nu5%2BHUlx4f8QTLay6beyQyXmq3k17BbpYOTBbCG2QzCAmT/AEiQsuOw/wCCPngP4u2f7I9r8f8A9pDUDf8AxJ%2BL15H4n8V6g9nJbtJCLSCy01fKl%2BeH/iX2lpI0TYKSzTZAYtkA%2BqqKKKACiiigAooooAKKKKACiiigAooooAKKKKACiiigAooooAKKKKACiiigAooooAKKKKACiiigAooooAKKKKACiiigAooooAK8R0j/AIKMfse6ld69Z6n8Urzw83hzw5c%2BINQk8a%2BEdV0GObSbd0jnv7WTUrWBb63R5IlaW2MqAyxjOXXPtN7FczWcsNndCCZ4mWKYx7/LYjhtp64POO9fmJq//BHL9uX4v6t4X1z43fHHQ31vw14P1Cz1DxRqHxW8TeJx4h1v7ZpV9a6idLvoobLSbaS50xfPsLIBRHJtWWQKgUA%2B2X/b/wD2YbX4aN8WNY8QeKtK0ttcg0axs9c%2BGWv2GqanfzIZIYLLTbixS9v2kQM6/Z4ZAyo7AkIxHReA/wBqz4H/ABH1%2By8J%2BHPEOqQ6vf8AhSfxJDpGteFdS0y7TTYbv7JLLLDeW8UkDrP8hhkVZe%2BzbzXk3xO%2BDn7bvxib4e/G3XPBvwq0P4h/Cjx1NrHh/wAM2vjjUr/Rdcs7jSbvTLmO4vn0qGaxmKXskkbpa3AjMQU%2BYJGxV%2BJPwG/bg1/4y%2BHf2mvA%2BjfCu08WX3ww1XwX4x0LUvFepSWGkLcX8N1a39lcJpwk1AxCN1kt5YrQSlxiWLHIB3Gk/wDBRv8AZA8R694F8LeFfiNqus6n8SfBuleLfBunaJ4H1m9nvND1F9lrqMiQWjNa2%2B7HmSTiNbcMpm8oMCdj4a/tufs3fFf4jXPwn8M%2BL9Ws9ft9LudThsvE/gzVtEW/sbeRI57uyl1G1gjv4I3liDy2zSIvmISQGUnyj9hT9hL4sfsw6/8ADjWfHniDw1dnwd%2Byl4R%2BGN%2B%2BkXM8rNq2lvM1zNF5kEe61bemxmKu235o0wK8a%2BGn/BKv9sbxP8UfC/ib9qb4w2eqRaf4A8V%2BF/GniaD4v%2BJNavPEUur2KW39p2umX0Men6EcqWNpaKUXKgTOI1WgD6l8J/8ABRf9kfxrosfirQfHeuf2Hcarpen6f4lvfh/rdrpWoy6lex2VlJaX09mlteQS3M0UYuIJHhBlQs4VgT6X4W%2BLvw88a/EDxT8LvC/iH7XrnguSzj8T2iWkwWxkuoPtEEZlZBG7tCVkKIzMiyRlgokTd8w%2BOPAnxF8K/wDBPbxp8CP%2BChnif4VeCPAWg/DSLQLb4meHfFt2GadI0trXUntLqzgTTZlmFvJDBHcXTGcoiOTtDdr/AMEr/h98WPDf7ImlfFX9oqwS3%2BJ3xYvpfHXxEhW3aL7Pf36xmG02N8yfZbGOys9pyQLXBoA%2BjaKKKACiiigAooooAKKKKACiiigAooooAKKKKACiiigAooooAKKKKACiiigAooooAKKKKACiiigAooooAKKKKACiiigAooooAKKKKACvF/j14/8A2i/%2BGi/AvwI%2BAvjPwV4fTX/BXiXXtX1Pxf4Lu9aJOnXeh28MMMdvqVj5Yb%2B1JWZmZ8%2BWgAXkn2ivCviLrSWX/BSr4Q6LIoxe/BP4hsjZ53R6t4NOPyZj%2BFJtLcuEJVHaPZv7tWX/APhB/wDgoX/0dB8Gf/DD6t/81FH/AAg//BQv/o6D4M/%2BGH1b/wCaivZqKZB4z/wg/wDwUL/6Og%2BDP/hh9W/%2Baij/AIQf/goX/wBHQfBn/wAMPq3/AM1FezUUAeM/8IP/AMFC/wDo6D4M/wDhh9W/%2Baij/hB/%2BChf/R0HwZ/8MPq3/wA1FezUUAeM/wDCD/8ABQv/AKOg%2BDP/AIYfVv8A5qKP%2BEH/AOChf/R0HwZ/8MPq3/zUV7NRQB4z/wAIP/wUL/6Og%2BDP/hh9W/8Amoo/4Qf/AIKF/wDR0HwZ/wDDD6t/81FezUUAeM/8IP8A8FC/%2BjoPgz/4YfVv/moo/wCEH/4KF/8AR0HwZ/8ADD6t/wDNRXs1FAHjP/CD/wDBQv8A6Og%2BDP8A4YfVv/moo/4Qf/goX/0dB8Gf/DD6t/8ANRXs1FAHjP8Awg//AAUL/wCjoPgz/wCGH1b/AOaij/hB/wDgoX/0dB8Gf/DD6t/81FWtf%2BN/7InwptNI0n46fGH4c%2BHNc1DRYNQNt4u8Q2Fpd3EcmR5%2B24dXZGdJAG6ZRhnggZv/AA1//wAE4P8Ao6L4I/8AhbaP/wDHa5p4zB05OM6sU10cop/c5JntYfhviTF0I1qGBrzhJXUo0a0otd1KNGUWtHqm1puWP%2BEH/wCChf8A0dB8Gf8Aww%2Brf/NRR/wg/wDwUL/6Og%2BDP/hh9W/%2Baiq//DX/APwTg/6Oi%2BCP/hbaP/8AHa9O0DRfhZ4r0Ky8U%2BFtJ8P6lpmpWkd1p2o6fBBNBdQSKHjljkQFXRlIZWUkEEEHBq6WJw9dtU5xlbtJP8mznx2TZzlcIzxuFq0lJ2TqU6lNN72TnTgm7a2Tbtra2p5z/wAIP/wUL/6Og%2BDP/hh9W/8Amoo/4Qf/AIKF/wDR0HwZ/wDDD6t/81FeefD7/go1%2Bxf4v8D2fjDxD8PfE%2Bgz6p441rwtomjXPwe1ue81a9064v45FtIodPZ7omHT552WJXMIBjk2SKyjsviF%2B1R%2By14FsvHtpeaJFp%2BseAvCGteIby28WeBNW0mzu7PTF/0ue3upNOcXtvEzRCSWyS6KiaNgj70V9jzTR/4Qf/goX/0dB8Gf/DD6t/8ANRR/wg//AAUL/wCjoPgz/wCGH1b/AOaiqth%2B1Z%2BxhqHxnk/Z%2BhvLf/hKLfxBHoN1H/wg1%2BLCHVX06PUo7FtQa0Fos72kqTJGZQzg4UFgVGz8a/ir8FfhJ%2Bzzrv7Q%2Bj%2BEdG8Uadpdg0mm2%2BhrbSDVbppRBBaxTAFA0lwyQ7idqsxLdDQBQ/4Qf/goX/0dB8Gf/DD6t/8ANRR/wg//AAUL/wCjoPgz/wCGH1b/AOain/s4fEC2%2BLl54y8D/FH4FeG/CvjDwH4gh0zX9K0fUV1WxkWextr23uba6ktLZ5Y3iuVU74I2WWKVcMoV38k%2BJn7aPiH4DeGfifL8cv2Q/BGneIPAHwsHjuy03QvHQvrO6sjPPAILy6k0uBrCbfA3Kw3EbKshR38phQB6x/wg/wDwUL/6Og%2BDP/hh9W/%2Baij/AIQf/goX/wBHQfBn/wAMPq3/AM1FeS/FD9uXw58L/gN8P/jFfeBf2fL1fiB8RH8M2uuWvxrT/hE7GJdN1G%2B%2B1S62dH%2B8W09oPKFtjzJkHmdRVv49ftueHfgNNe3OsfAHwJe6X4M%2BFuk%2BPfijrMfjFI4LDS725urf/iUE6ef7YdGsbpvn%2BxhlNtgh7hUUA9P/AOEH/wCChf8A0dB8Gf8Aww%2Brf/NRR/wg/wDwUL/6Og%2BDP/hh9W/%2BaisrxN8V/Efw/wD2j/CPwh8ffszeD7fw38QPEF9o3hDxDpfiYXWotcW2l3Woma709rCNLe2aOymj82O5mZZJLdWQeblOf%2BHvxq%2BOniz4v/EP4G61%2Bxp8MY9c8D%2BDdM1eCfQviTPeWV3fX8t0tvp00s%2Bh27WziO0aZ3VJiiTQnYfMFAHa/wDCD/8ABQv/AKOg%2BDP/AIYfVv8A5qKP%2BEH/AOChf/R0HwZ/8MPq3/zUV5r4m/a81rT/APgndo37d/hb9kfwnqNzLoqav4l8JXXi0W0em2arIZ2gvBpztdOrIqohgiD78lowDW18Zf2oPDfw1/bH8NfskaT8NfhNHPr3h601ZdQ8cfEFNDursTX01qbXTrNdOuDqFwqwmTy/MizuVcjO4AHYf8IP/wAFC/8Ao6D4M/8Ahh9W/wDmoo/4Qf8A4KF/9HQfBn/ww%2Brf/NRXJeBv2p/APxS/at179nTwB4C%2BFslr4av7rT9RfVvHcFt4guri3thJLNaaKllI01mk7rbPcPPEQ8c5WN1jUycb4m/bR8d/C2b4u2/xh/Y3%2BH9uvwn8M6FqN/qHhTx/LqNkbnU7maJYLqW40W1NnFbQRpe3M4SYQ20ySbG5WgD1/wD4Qf8A4KF/9HQfBn/ww%2Brf/NRR/wAIP/wUL/6Og%2BDP/hh9W/8AmoryfQf20NT8bfsn%2BKP2q/AP7PXwh1DRvA19rI8S6u3xOlOgXdhp1uJ5dQ0rU7fRJjqEP%2BsiYtBAFlt5kBbZk4/j/wD4KJWXwu8cfD74a/EL9k7wjoniXxb4U8K6rqfhTVfGkcGrS3esXjWk2naHbHT/APieTWDoXuvmtfLjkiYgB/lAPcP%2BEH/4KF/9HQfBn/ww%2Brf/ADUUf8IP/wAFC/8Ao6D4M/8Ahh9W/wDmorltW%2BMfxY0H9rTTv2ar/wDZH%2BHV3Z614a1/X9L1nR/Hsst3FYafJbwwNd2kujRRW73M15bxhVuZNuJmBlELE1dE/aC8YsnxP8GeOf2bvhX4f8Y/DLRNJ1vUftfxHb/hGv7NvvtTGS41Z9ISSzlgisrmWWNrRgqG3bfsm3oAdn/wg/8AwUL/AOjoPgz/AOGH1b/5qKoeB/HH7Vng79qzw58Efjd8R/h74m0bxN8PfEOuQzeFfh5faLdWl1pt9oluis9xq98ksbpqkpKhEYNEhDYyC79mv4x%2BD/2nP2Y5Pjzofw70XR5TLq1vaXegXyX9jdNZXM9ut9p98sMJu7OYwiWGcRx%2BYjqdoq744/5SF/C//sjPjz/07eEKAPZqKKKACiiigAooooAK%2BcfhN4q/bv8Ajro%2BveO/C/xv%2BEmgaXb/ABC8VaHpelX/AMH9Uv7iK10vXr/TIWluE8RQLLI8dmrsyxRrucgKABX0dXjP7B//ACRDXP8Ass3xH/8AU11ugA/4Qf8A4KF/9HQfBn/ww%2Brf/NRR/wAIP/wUL/6Og%2BDP/hh9W/8Amor2aigDxn/hB/8AgoX/ANHQfBn/AMMPq3/zUUf8IP8A8FC/%2BjoPgz/4YfVv/mor2aigDxn/AIQf/goX/wBHQfBn/wAMPq3/AM1FH/CD/wDBQv8A6Og%2BDP8A4YfVv/mor2aigDxn/hB/%2BChf/R0HwZ/8MPq3/wA1FH/CD/8ABQv/AKOg%2BDP/AIYfVv8A5qK9mooA8Z/4Qf8A4KF/9HQfBn/ww%2Brf/NRR/wAIP/wUL/6Og%2BDP/hh9W/8Amor2aigDxn/hB/8AgoX/ANHQfBn/AMMPq3/zUUf8IP8A8FC/%2BjoPgz/4YfVv/mor2aigDxn/AIQf/goX/wBHQfBn/wAMPq3/AM1FH/CD/wDBQv8A6Og%2BDP8A4YfVv/mor2aigDxn/hB/%2BChf/R0HwZ/8MPq3/wA1FH/CD/8ABQv/AKOg%2BDP/AIYfVv8A5qK9mooA8Z/4Qf8A4KF/9HQfBn/ww%2Brf/NRR/wAIP/wUL/6Og%2BDP/hh9W/8Amor2aigDxn/hB/8AgoX/ANHQfBn/AMMPq3/zUUf8IP8A8FC/%2BjoPgz/4YfVv/mor2aigDxn/AIQf/goX/wBHQfBn/wAMPq3/AM1FH/CD/wDBQv8A6Og%2BDP8A4YfVv/mor2aigDxn/hB/%2BChf/R0HwZ/8MPq3/wA1FH/CD/8ABQv/AKOg%2BDP/AIYfVv8A5qK9mooA8Z/4Qf8A4KF/9HQfBn/ww%2Brf/NRR/wAIP/wUL/6Og%2BDP/hh9W/8Amor2aigDxn/hB/8AgoX/ANHQfBn/AMMPq3/zUUf8IP8A8FC/%2BjoPgz/4YfVv/mor2auf8YfFj4WfDxDJ4/8AiV4f0NVGWbWNZgtgB/20cVMpwgrydl56fmTOcKceabSXm0vzaPOf%2BEH/AOChf/R0HwZ/8MPq3/zUUf8ACD/8FC/%2BjoPgz/4YfVv/AJqKreIP%2BClf/BP/AMMzvban%2B2L8PGdPvCy8T29zg%2BmYWbn2rltU/wCCxf8AwTR0fP2v9rLQ3x1%2By2F7P/6LgbNcU81yun8VeC/7fj/8kebUzvJaXx4mmv8AuJD/AOSOy/4Qf/goX/0dB8Gf/DD6t/8ANRR/wg//AAUL/wCjoPgz/wCGH1b/AOaivMpP%2BC4v/BMbzDFY/tE3F4wOCLTwTrLfr9kApjf8Ftv2A3Uvp/jHxZeAd7b4faof/QoBWP8AbuS/9BMP/Ak/yuYf6ycPdMXTfpNP8rnqH/CD/wDBQv8A6Og%2BDP8A4YfVv/moo/4Qf/goX/0dB8Gf/DD6t/8ANRXifiL/AILw/sU6LE0mmeFvibrBUcx6d4FlU/8Akd4x%2BtcPqH/Bw38C7hynhT9nrxUxP3E8S%2BI9G0lj9Vlu2IrCpxLkNN2eIj8rv8l%2Bp6mEryzCN8FSq1l/06oYir%2BNPDzX4n1J/wAIP/wUL/6Og%2BDP/hh9W/8Amoo/4Qf/AIKF/wDR0HwZ/wDDD6t/81FfH2r/APBwjdWKmWy/ZN0CdP4S3x70IMR7qgciuU1X/g5S1uwZk/4Y10WMD%2BMfGO2uB%2BUNk1cs%2BMOHqe9b/wAll/ke5huHOMMZ/u%2BTY%2BfpgMY//deJ92f8IP8A8FC/%2BjoPgz/4YfVv/moq3%2Byt8RvjT4w1j4oeBPjpr/hfVtU8A/EKLQ7PVfCfhq50m3urWXQdH1NWe3uL28ZZFk1GVCwl2lY0O1TnP582/wDwcffErxGdvhn9mXwzAx4H2jxDqd1z/wBsdPGa%2BpP%2BCQHx88U/tP8Ag34zfHPxr4estK1PXfjMDc2GnJcLDEIfC/h63XaLlEl5SJWO5RyTjIwT2ZbxBlWbVnSws3JpX2aVtFu/UMfw9xVlFNVczyvFYWDdlKvh6tGLe/KnUUbyaTdrbJvofXtFFFe0eUFFFFABRRRQAUUUUAFFFFABRRRQAUUUUAFFFFABRRRQAUUUUAY/xA%2BInw/%2BE3g6/wDiJ8U/HWjeGfD%2BlxCTU9d8QanFZWdohYKGlmmZUjBZlGWIGSB3qve/Fn4V6b8NF%2BNGo/Evw/b%2BDm0qPU18WT6zAmmGxkRXS6F0X8ryWRlYSbtpDAg4NVfjd4i8PeEvhPrviLxToWqanZWtkWkstF8NXesXUjlgI/Ks7OGaeZg5U4jjYrjdwFJHzz%2ByV8d9M%2BE//BLr4fXfiX4B/FLVNZ8AfBbRU1XwL/wqXWotWub%2Bwsre3eygtrq0jMs/2lMIBwQPNB8tTIAD6U%2BHPxP%2BGnxi8JW/j74R/EPQvFOhXbOtprXhzVob60mKMVcJNCzIxVgVODwQQa%2Bef2hdZ/sv/grP%2BzNY7sf2l8MfiZb49cSeGJv/AGlXR/8ABO6wur34XeKfin4ns9XtPFfj/wAdXHiHxpp%2BpeCtV0KCw1B7Ozt0tLSDVLW2nnghtba0iN15YW4mjnlwjO8aeIftSTfFTw5/wW0/ZLu/HPjTw/f6Dqei/Eq38OWGleGp7K6sIzp%2BlFkuriS9mS8ZnEW1khtwu1sq%2B4beXGT9nQ5vOP4yiv1Pd4cw31vNPZd6dZ/%2BA0K0v/bT7uooorqPCCiiigAooooAKKKKACiiigAooooAKKKKAPM9S/Zk/Zt%2BNGj6D4p%2BMX7PfgfxZqdv4ftbWDUfEvhOzv544FUusSyTxswQM7sFBwC7HGSapf8ADA/7Cv8A0ZZ8Jf8Aw3Omf/GK5P4vf8FIP2L/ANj6Xw58NP2i/jL/AMI7rd94Us9TtbL/AIR3UbvfavviWTfa28iDLwyjaWDfLnGCCeQ/4fm/8Esv%2Bjov/LJ1z/5CrxcRi%2BHadeUa86Smnrzezvfzur39TReIeIypfVI5xOkqenIsTUgo9bKKrxUd9lFb7anrf/DA/wCwr/0ZZ8Jf/Dc6Z/8AGK9O0DQNC8KaFZeFvC2i2mm6ZptpHa6dp2n2ywwWsEahI4o40AVEVQFVVAAAAAwK%2BVv%2BH5v/AASy/wCjov8Ayydc/wDkKvp7wD468K/FDwJovxL8C6p9u0TxFpFtqej3vkPF9otbiJZYpNkiq6bkdTtZQwzggHiujA4jJ605LByptpa8nLe3nypaX7ilxdV4k/dTzGWJ5NbOvOry30vaVWpa%2B10lfa/Q8J%2BGH7C/ivwB488Ka1qfxn03UNB8D/FDxV4v8NaXD4Qkguwuu/2s89pcXJvXSUxS6qxSVIYv3cIRkLMZB5HrX/BGGXXvFPj3xJefHbw7FceMvAXj/wAL/wBtWvwvRNbuY/E0iuLjVdRN8X1R7LaI4UC26eWNu1MBh7tYft%2BfCPV9OsZtJ8KeI5r660XxbqV3pMv2C3l0tPDl6thqMd3JPdpBAwu3SBGaXy2JLF1jV3XhPBv/AAU%2B8D/Hab4caj8BILOWx134z6j4G8bwX99Y6lLp5t/Bur%2BIUNtc6VfXFnK7G0sDvSeZAk00bBJVPlekQddJ%2BwwH8Q6rr4%2BKGDqfx10n4jmIaJ/q/sWkafpv2DPn/Nv%2BweZ52Bt83b5bbdzd58a/gdqH7QH7POu/BLx/4xit7/WrBo08QaHpZgFldJKJrW6igllly0MqQvtZ2V2jOcBsD548W/8ABVaV/gh4U8a/CL4U6/4jvdUg%2BHsniPxTL4fgt9G0VvEl3pypBcwDUmuY7hrW981UgN1FA00HmzMpJb6Q%2BMPx48P/AAk%2BAXjz4%2B3Wjalc2PgLw/rGqX1lcafNaS3A06GWWVYxOillbyWCSqGjcEMjMpBIBzvwF/Z/%2BKHwp1fxF478a/FrQ/EPirxx4ti1bxpqNl4PmsLSS1g0yKwt7Kxt2vpmtNn2eCUySy3JZmuBtUSp5PF/s4/sl/tT/A/RfHF/4s/aY%2BH/AIs8Y%2BNbs6jd%2BM7n4RXsE818HAhFzGddkWWzggAt4bSE24jUBg5dpGfb/Za%2BNnx%2B8Q/FTxN8Bv2lR4RufEWjeCvDviu11LwXpVzZWgtdVk1KA2TR3NzcO8tvPpc2Zw6LKk0ZEUZDLXNeMv2if2qPhl8eNf8AhHfXPgbxpLJ8L/EXi7R9K8L%2BFL%2B3vfDxtJoY9Mhv2a%2BnF6LwyTRoY0tXZ7Kby0dVcxAG34G/Za/aG%2BGHh3xbq/gj4%2BeBh428f%2BPn8T%2BLdW1X4V3E2jljpdrpqw2enRavFLbnyrK3ZpJLqdndpywxIoj4jx5/wSt8M%2BPPgN4C/Ze1jxH4L1Hwd4W8L/2Fq9/4h%2BGEN94gmtpDi7XTL/7UkejrPEWhKpbzeXGwEZQqrC58Ev25vGd9%2BzrqfjL4leI9G8TfEqO503TbL4dad8NNX8G39vrN/CptdOns9Xubi52PIXb7ZtWIQQzS4KQyMOBm/wCCgH7VI%2BDPwY%2BJXijVvB/hPTvFXg/xLqXxM8dx/BnxD4k0XR7zTr2wt7dDHY6hG2mW0sc17M1xdzNGq2hyygMaAPcPCn7Lvx10n9tDWv2pPF3x48J%2BINIv7U6ZoXh68%2BHd0l/4d0jy1LWNlfDVjDGZblEuLidrNpJ9kcZKpDAIuk%2BG37Pvi34T6Z8Tde8K/EbTrnxr8RfGN94gPiHWfDkk1rZu0ENnp9vJax3UbzxW1na2kJCzxGVo5JB5RlKry/xq%2BOPx4%2BFnx1%2BH9toXinwJrvhL4g%2BL7TRdI8HWvh%2B7/t2W1a0ea71NL9b0wNFbhGmdPsm3ylA84PIgPCfEn9qD9sf4PfGD4q%2BG59b%2BGfjbR/h18C9T8czWNl4UutAng1CSWcaNp899c6vcwbJksNRM0pii2CKJ/lV%2BACb/AIYD/aQP/BOaf9gx/wBqTwQb2ezk0n/hMR8JLwRLo7xnMX2L%2B3M/avMJYXHn%2BXtwv2fPznt/2gP2YP2gv2kfh/bfCPx58efBNt4c1XTLG38drpXwvuEv7%2BeG58%2BSbTriXVpE04MFQIJIrt4WUushYrt8G0v/AIKl/Fmw%2BHOqweI5dEn168%2BJmieEfCmvXHwi8RaM6vfaU%2BpSSXHhi4nk1aQxxW9wsCo6C%2BkMaRFAGkrc%2BJn/AAUp1jQLTwN4Q8J/HbwOLzVvBus%2BJfFPxDl%2BD/iDUNOtbawv0sXjbRrW9F3pwjmMy3U93chLJrRklG6UCMA9Isf2AZNL/aHj%2BJul/EvTLXwhH8VJ/iMPDNv4S26m3iCbSZNNlLan9pwbVlleUxfZvNLNs8/yv3VXdf8A2F7jXvg78RvBEvxbZPE3xC%2BKMXji58UtoQeKO5s9Qsp9Ms5rUzf6Taw2mmafYzR%2Ban2iKKX/AFPm7U8/8S/8FAPi9pn7c8XwD02y8Ot4Ubx7pXh6Dd4V1GRb60vNCj1JtQ/4SFLj%2BzbS4WV3ij0mWI3c6RJKh2XMTDPuP%2BClvxavde%2BMOteGfAXh2fwppHg/wlqXwXuLhbhJ9bk1vWtU0WG9vXEhX7FLdWUM8IiRXNrIJC5aUJGAehN%2BwT4g8R/CDxl8OPiL8ZrG%2BvfiZ8U9O8X/ABEudG8JNY2F/b2x0yObSra0a7ma1hubbS4YZneaZmNxcyH5pQFf%2B0Z%2Bwl4p%2BOnxQ8Q%2BJtK%2BN1npHhzxxpfh7T/Gmi33hI3195WkX895AdMvftcS6e7tOwYvBcBWCyRiN8scW7/aV/ad034e/EzSPEPjXwnZ%2BK/hJ42t9M13XvD/AME9f8SW2t2FzpVlfwSWuiadqTXsMoN%2BkT4nuFUW0khAWQeXxFr/AMFQPF/iTW/h54c1PxH4N%2BHk2o/CLwt468d3%2Bp%2BEtT8UWEQ1qe4gjtI7rTbiK306BHspw2o3cjQgzwBVf5yAD6Q039n7W9I%2BOPxF/aDs/H1vJ4g8XeGdM0Hwz9r0UyQeHrOyS6kjQoJ1NzvvL24nkIMJdfKiJ/dLIeB/Zt/ZS/ao/Z3%2BD2u%2BDYv2l/AGueL9a1eLVrrx1ffCS%2BWXVNQc/wCm3Wpxf26xu3ljWGOJYZLWO2SFI0QxJHEmpqPxm/aC8Eftk%2BFfgn4l8QeB/EGg%2BN49Zu7fQ9B8OXlrq/hvTLOINFqN3dSXs0VzC8zQ2rAW9viW7j2M4R8%2BJfCL9vb9rbxl%2Bw9rXxX1o6FefGex8MeFtT1H4YQfAHxPpd74Yk1KaOO6Eum3V%2B97q8MZN0sc1r5SSNYyhWc5CAH0X8GvgTqP7P3wI8TeGdf8ax6/q2tanrniDW9QtNK%2BwWhvL6aW4lS1tfNlNtAGfCoZZGJ3O7u7sxp%2BOP8AlIX8L/8AsjPjz/07eEKufBH4sP8AGT9m7UfFl78TNG8VX8MepWWqX2jeDL7w6La4iLq1rNpuoXE91ZzxjCvHM4fPzbVDAVT8cf8AKQv4X/8AZGfHn/p28IUAezUUUUAFFFc78V/iv4B%2BCPgK9%2BJnxN1xtP0eweCOaaKzmuZZJZpkgggiggR5Z5pZpY4o4o0aSSSRERWZgCAdFRXndl%2B1b8BL74F3X7SKeOmh8IWMk8N9e3mkXdvc21zDcm0ktJLKWJbpLoXKmD7K0QmMuIwhchTlS/tt/s/p4Bi%2BI1rd%2BML2yk1ebS5tO0z4Ya/d6rZXcSCSSK602Gxa9tCsZRyZ4UGySNs4kQsAes14z%2Bwf/wAkQ1z/ALLN8R//AFNdbr1HwL448I/E3wVpHxH%2BH/iG11fQtf0yDUdG1WxlDw3lrNGskUyMOqsjKwPoa8u/YP8A%2BSIa5/2Wb4j/APqa63QB7NRRRQAUUUUAFFFFABRRRQAUVDqOpadpFlJqWrX8NrbwrulnuJQiIPUsxAArxT4of8FLP2B/g60kXjv9rDwZHNEcS2mmaquozxn0aK0Erg%2BxFYV8VhsLHmrTjFebS/No5sTjMHg482IqRgv70lH82j3Givklv%2BC1f7E%2BsZHwxX4geNmP%2BqTwp8OtRlMp7BfOjj6%2B%2BKY/7fH7avxRUxfs4/8ABLrxyIphiHVfilrdp4dSAHpI9u5eRx/sqwJ7Vwf25lcv4dTnf9xSn/6TFr8Tzf8AWPJpfwqvtH2pxlP/ANIi1/5Mj65qtq%2BtaNoFk2pa9q1tZWyHDXF3OsaD6sxAr5LT9lX/AIKWftCOLz9pn9uS3%2BHmly8t4T%2BBulm2lQHp/wATO6BnVgOCArKT07Vc07/gjP8AsKxXP/CSfGLSPFfxF1CJSW1j4i%2BOb28kHqzBZI4zn3Wj67mVbWjhrLvUko/%2BSxU5fe0Cx%2Bb4l/7PhLLo6k1D/wAkiqkvvs/I9v8AEn7XH7Kfg6N5fFn7TPw/0xYxl/t/jKxix%2BDSivJ/GP8AwWP/AOCange6%2Bw6p%2B1TpF5KWwq6Hpl7qIJ/3rWCRfxzWFqfwD/4InfBBvM8V%2BEPgHpTwHPl%2BIbzTZXyO2y5dmY%2B2Caig/wCCpH/BJ/4KN/wjnws8faDJdsNlvpHw88F3EzTn%2B6htbfyz%2BLAVxVsyxdLSriKFP5yk/uco/kfUZZwL4sZ6r4HLpSXeGHxNRevM40oW8%2Ba3donb/gtv/wAE/roeX4b8b%2BKtanbiG10v4f6q0kp9FD26gn6kUg/4KmeKvFX7z4Rf8E4v2gtet%2B1/qHg1NMt5R6xvNKS4/AUn/Dyj48fEU4/Zq/4Jk/F3xFG3%2BpvvGgtvDFrN6Mklyz7l98CnDxv/AMFp/iF8/h74HfAz4eQP95PFniW/1a4jHsbECMt9eK5/7QxlX4K8pf8AXvDv/wBKm0j2f%2BIU8eUv%2BRnmWEwfdVKuGjJesFWxVRf%2BAeWj2D/wUC/bH1D914e/4JOfEmWVv9WNS8TafaIT/tM2QtNb9oT/AIK9%2BNx9m8I/8E9/A3gppDiO88a/FSHUY4x/eeOwQOfoOaf/AMM8f8Fc/GHzeJv%2BCiHgvwiG%2B/F4S%2BE8F8APQNeuD%2BPWkP8AwTm/aW8UfL8Uf%2BCqnxiu1b/WjwnHZ6GT/umFH20f8LFXb27/APBFP/5NoX/EOsppf79xdS81Ro1qj%2B%2BGFgn8pjV%2BA3/BYPxznVfF37fXw98By4ydM8EfC6PVLYe3maiyyYFcP420/wDa%2B%2BGsrQfET/gvv8OtBkT70esfDHw3bMPbElyDXdf8OZP2UvEHHxj8e/Fb4ig/61fG3xLvZxL/AL3kNFn8MV3fgn/gl3/wTz%2BH8SxaB%2ByB4HmCY2trOjrqTf8AfV35p/Wj%2BzMyqfZcfOWIqt/dTUV91g/1Q8JMLrXzXMMS/wDp1D2Sf/b1fEv/ANNo%2BO/FX7VXizw1ug8T/wDBxd4TaFf9Z/wj3wO0y8kb2VrYyY%2BozXKf8NRaV4pPm%2BDv%2BCrn7R3j25b7g8BfBoxJJ/uo8SD9a/T7wr8Bvgb4FKnwT8GfCejbPuf2V4dtrfb9PLQYrqwABgDAHQUf2Bjqnx10vnWl/wClVl%2BQf2f4PUPhy/H13/09zDkX3UaTf3TPyW/t39uXxh%2B78A61%2B3LqUDfck1jwzpugh/cSSM5A98Uh/Zd/4Kx%2BP/3dho37SmnRv0vdf/ao020iP%2B9bW1oZAPxr9aqKP9Vac/4mIm/R2/8AbpB9a8PKH%2B78N0X/ANfsVmFb8PrNGL%2Bat5H5MJ/wR9/4KceOiX%2BIHxd8LXljJ97TfGXxY8T6jKPXcbYRIfwNbvhD/ghB8btEkEoufgJp7ltzyN4Q1TWiT3ONRuHB/Gv1Koqo8H5MneXPJ93Nv9H%2BZUOIMooS5qGQ5bB9G8FCo1869au38z4E8P8A/BHr4/W8CWl5%2B174B0S0XrZ%2BDv2a/D1mwPqJtu/Pviuq0n/gjbZMRJ4q/bw%2BNrN/GnhjXLTR4m9tkNucD2Br7Rorthw5k8P%2BXbfrKb/9uR6VPxE4jwytg44bD/8AXnBYKn%2BMcJJ/ifJUf/BGv9mq5QL4m%2BL3xj1w4%2BZ9W%2BJ12xb67NoqS3/4Ik/8E5pZlufE3we1fXpEOUfWvHGrS4P0FyoP4ivrGitv7Cybrh4P1V/zbNv%2BIq%2BJSVoZviIf4Kns/wD03Cnb5WPnnRP%2BCTv/AATk8Pqq2H7IvhKQL0%2B3W8lz%2BfnO2fxrqNN/4J%2B/sJ6SALL9jT4XAr0eTwHp8jD/AIE0RNevUV0QyzLafw0IL/tyP/yJ5OI4542xbvWzTEy9cRX/APlyOC0j9lb9mDw%2BQ2g/s4eArIjobTwfZR4/75iFdPpngPwPogA0bwZpNoF%2B79l06KPH/fKitaiumFChT%2BCCXokvySPFxGa5pi/4%2BIqT/wAVScv/AEqcgACjaowB0Arxn9l//kt/7R3/AGWax/8AUK8L17NXjP7L/wDyW/8AaO/7LNY/%2BoV4XrU4D2aiiigAooooAKKKKACiiigAooooAKKKKACiiigAooooAKKKKACiiigAooooAK%2BDP%2BCluqf2H/wVX/Yg1TdtzqnjG1z/ANdxokWPx3V951%2Bdf/BY29l0f/goP%2BxLr6cJaePNR%2B0N/difVPDkbH/x%2BvMziXJls5duV/8Ak9M%2B48N6CxPGmFov7arx%2B/C4v/JH6KUUUV6Z8OFFFFABRRRQAUUUUAFFFFABRRRQAUUUUAZXgb/kSdH/AOwXb/8Aota1ayh4M0NMrA19CmSRFb6tcxovsqrIFUewAFL/AMIfpP8Az96r/wCDy7/%2BO0AalFZf/CH6T/z96r/4PLv/AOO0f8IfpP8Az96r/wCDy7/%2BO0AeH%2BIP%2BCaf7PniXxH8ZvEuoav4mEvxt062s9ct01GHydEESktJpqGEiBppyLmYS%2BaksyqWUr8hf4K/4J3fDnwt4uj%2BIXiD4xePvFPiA/E6Tx3eax4gvdP8y71NvCs/hfy2S1soYktxYTlljiSPEyI2dm6Nvbf%2BEP0n/n71X/weXf8A8do/4Q/Sf%2BfvVf8AweXf/wAdoA%2Bcv%2BHUnwYs/C%2BgeAfDnxn%2BJGkeHdIsfCEOqaDp2p6eIPEE3hprU6Zd3jPYtKJttlbJL9neCOVIlDJ8q4%2BgdY%2BHWkeLfA%2Bu/Dr4hX1z4j0nxFDfW2pWuqRwqGsroOr2Y8iOMGJY3MalsyFQN7u2WNz/AIQ/Sf8An71X/wAHl3/8do/4Q/Sf%2BfvVf/B5d/8Ax2gDzP4Hfse6X8C5NS1nTvjn478Qa/qkOi2N14o8TT6bPfHSNKkle00keXZRxfZh9ouwzmM3LG8mcz%2BYVkXO%2BEv7E1x8HvHfj/x/oP7VfxLvrr4i6he3%2Bsx6tB4flNvdTL5cEkM66StxttIgkVtDLLJDGiANG/OfXf8AhD9J/wCfvVf/AAeXf/x2j/hD9J/5%2B9V/8Hl3/wDHaAPI9J/4J/8AwF1g%2BIL39o6yPxt1HxLPp76nqPxc0HSNQASwS4SzjitbexgtIRD9svCrJAHJupSztu4xND/4JsfDDwB%2Bzvp37KnwT%2BLXjL4e%2BBYLLUbTWtF8GWeh239uxXrlpxcySaZI8b7WeMS2rW8gVvvllRl93/4Q/Sf%2BfvVf/B5d/wDx2j/hD9J/5%2B9V/wDB5d//AB2gDyLSv2G9F8N/tLxftK%2BEfj/490uS30DT9BsvB0UWiz6RZaRahf8AQLc3OmyXltDM6iScxXKSSuqZfEUKx7Wv/sbfCLxdoHxg8OeLp9Y1KH42sy%2BL5Z75Ulgt/wCzINOjtrR4kQwRRxQeYg%2BZhNNLJuJfj0P/AIQ/Sf8An71X/wAHl3/8do/4Q/Sf%2BfvVf/B5d/8Ax2gDxRf%2BCfPg%2B7tNT1vxN8ePiDrPjjUNc0vVbX4mahJpI1jTZ9OilitFt44dPSxVEjubxCr2riQXk%2B/eWBFLWP8Agmp8Kr3wTY%2BEvD/xe8f6DeppviHT/EXibSb7T/7R8SWuu3x1DVo7xprKSNfPuy0we2jgeAuywNCjFa94/wCEP0n/AJ%2B9V/8AB5d//HaP%2BEP0n/n71X/weXf/AMdoA8WT/gnX8HLf4hDxPp3jTxZa%2BGG8Uad4kufhnFdWbaFcavYWVvZ2t2%2B%2B1a8GyO0tG8lblYGkt1do2YuWy1/4JL/sH6V4l8aeKfh/8A/D3gy48b%2BBbLwver4I8PafpI0%2BC1u7m7ju7Rra3V4bpp54XeQsysbCz%2BT9zz77/wAIfpP/AD96r/4PLv8A%2BO0f8IfpP/P3qv8A4PLv/wCO0AeTaD%2BxnqfhHwxqlh4N/a0%2BJ2leIvEXiV9c8W%2BOoIvD8up67cm0gs0WeOfSXs4447e1to0W3toSogByS0hfn9e/4Ji/AfUvCOnfDzw74y8Y%2BH/D6eBLHwZ4p0jSdRtXXxboVnLPLDZajLc2005Ae7vSZLeSCVhezguQw2%2B8/wDCH6T/AM/eq/8Ag8u//jtH/CH6T/z96r/4PLv/AOO0AeU/D/8AYxPw6/aE8Z/tD6X%2B0x8RLy88dXZl1rQ9Si0KW0jiSB4bW0gm/swXsNta72khhFzsEjyO4kaaYyL4c/Y41DQNQ8S%2BNLj9qv4l6l438R6PYaSnj%2B/j0H%2B0NKsLS5kuY7a1gi0pLAK0k03mNLayO4kwW%2BSPZ6r/AMIfpP8Az96r/wCDy7/%2BO0f8IfpP/P3qv/g8u/8A47QBwvw8%2BAvh74AfCTxXo2l%2BKdb8Qajr91qGt%2BJPEniOaBr3Vb%2BaEI00ot4oYExHFDEqQxRoqRIAowScfxx/ykL%2BF/8A2Rnx5/6dvCFeonwZob4Wdr6ZMgmK41a5kRvZlaQqw9iCK8u8cf8AKQv4X/8AZGfHn/p28IUAezUUUUAFeQftr/Dfx98Q/hPpF98MvDLa7rHhPx/4d8Tw%2BHUu4YH1aLT9Tt7ie2jkndIlmMKSGLzXSMyrGHdFJdfX6KAPk/wr8CfHfif9nb4oeHvjJ%2Bz94ztrvx343vPHGn6B4c1/Rl1LS7hL%2BCTTreGdr37MupRGwtb0lnNoJZNnnSgNnhfD3w3/AG%2BPgT8E/H2sfDP4ZfEDxB4y%2BN3xeGqaxqOpa/4Ym8QeDtGXRNO0x76RDdWmlz37LpYMMFsxt4Tcw7xKtu6S/dVFAHnfwt%2BFVl4b/Zg8N/Bn4a2viX4ZWul%2BE7LS9GtxLp93qugxQwpHHGzyfbbSaZFQKznz0Y5OWzurj/8AgnTpN/oP7N19omq%2BJ77W7mz%2BLfxDhuNY1OOBLm%2BdfGetAzSrbxRQh3I3ERxomSdqqMAe6V4z%2Bwf/AMkQ1z/ss3xH/wDU11ugD2aiiigAooooAKr6vrGk%2BH9LuNc17VLaxsrSFpbq8vJ1iihjUZZ3diAqgckk4FfOf7SX/BRrwr8O/Hrfs5/s0%2BBbz4tfFyYFV8I%2BHZR9m0k9PN1K7/1doikjKk7ugbYGDVx%2Bj/8ABOr4yftQ6pb%2BPP8Agpt8cX8VwpMtxZfCTwXLLYeGbBgcqJsETXzqejORjkZdTXlVcyc6jo4OHtJrRu9oRf8Aelrr/dipS72PFrZu6laVDAU/bTWjd7U4vtKequusYKUu/Kavjj/gqz4D8U%2BJ7n4W/sNfCXX/AI6%2BK4H8ueTwsog0Owc9Dc6pKPJVehDJvU9NwNZ6/s7f8FQv2lmFx%2B0T%2B1lpXwj0Gbl/CfwZsi2oFOyyapc5eKQDqYgyE9q%2BqPA3gHwN8MfDFt4K%2BHHg7S9B0eyTbaaXo9hHbW8I/wBmOMBR%2BVef/tJ/tu/sv/slWCzfHH4s6fpl9OoNjoFuTc6leE8KIrWINKwJwN20KCRlhWFbCv2bq5jiLRW6i/ZwXk3fnl85K/8AKdmV8KZ9xNjY4Re0xFWe1KhGaT%2BUL1JJdXKcVbV8qPJdP/4IvfsT397Hq3xgt/HHxLvom3Le/EDx7f3jlv7xEUkSN%2BKke1ez/Df9kj9kz4D23274afs%2BeCPDf2ZNz6hZ%2BH7aKZQB955yu84HdmNeDr%2B0l/wUg/a1byP2WP2b7b4R%2BFJ/uePfjFGTqMsZ/jttKjyUbGCpmLRsD1FWbX/gk3oXxTuY9Z/bj/ag%2BIfxluQ4eTRr/Vm0jQg4OdyWFmyhDn0kwcDiuWgsIpc2X4NP%2B/JKC9eaalUl6qPzPv8AD%2BF/CvDcufPMZQw1Rb0qMFi8T6SdOTpU5eVTFOS6pbHcfGD/AIKlfsG/BO8Oh%2BIv2h9G1XVt/lxaH4S36vdvL2i2WayBH9nK1w3/AA8E/a1%2BMf7n9k3/AIJteObq2l4i8RfFK%2Bg8N2qr2lWGQvLOnptIJBr6B%2BD37Mn7PH7PtkLH4J/BPwx4XGza82j6NDDNKP8AppKF3yH3Zia7mvQ%2BrZtX/i11Bdqcdf8AwKd390Uej/bfh7lWmAyqeKkvt4us1H19hhVTj8pV5efU%2BRR%2Bzz/wVa%2BOJE/xs/bU8K/DLTpOZdA%2BEXhY3ExXspvr4%2BZGw7lAQT7VNbf8Eav2W/Es66h%2B0R47%2BJ3xbuw28y/EH4g3k6B/VUt2hAA7KcgDjmvrSij%2BxMvlrWi6j/vylP8ABtR/8lE/E/jCguXLasMFHthaVKg1/wBvwhKs/V1792eG%2BC/%2BCZ3/AAT/APAJRvD37IPgNmjxsk1PQIr51I7hrkSHPvnNeu%2BFfAngfwLZ/wBneCPBulaNb4x5GladFbpj/djUCtWiu6jhMJhv4NOMfSKX5JHy2Z8RcQZ075hjK1b/AK%2BVak/wnUkvwQUUUV0HjhRRRQAUUUUAFFFFABRRRQAUUUUAFFFFABRRRQAUUUUAFFFFABXjP7L/APyW/wDaO/7LNY/%2BoV4Xr2avGf2X/wDkt/7R3/ZZrH/1CvC9AHs1FFFABRRRQAUUUUAFFFFABRRRQAUUUUAFFFFABRRRQAUUUUAFFFFABRWB8Uvib4S%2BDfgLUfiX46fUl0rSo0e7OkaFd6nckM6xqI7WzilnmYsyjbHGx5zjAJrKi/aG%2BDUv7P8Ab/tSt45gi8BXXhWHxJB4hubeWJG0yW3W4jnMboJQWiZSIygkywXbu4oA7Svzl/4Llf8AEv8Ajl8A/F/T/hHotV1Hf/d2%2BIvB6Z/8iV92fBn45/DT4/eGrrxV8MtVvpodP1OTTtUs9X0K80u%2B0%2B7REdoLmzvoobi2k8uSKQLLGpaOWNxlXVj8L/8ABfO1mPh7TdZtFzPpPwl8RX0HsyeLfAmT/wB8lq8rPf8AkTYh9oN/dZ/off8AhS1/xEvJ4PaeIpw/8GOVP/3IfotRUdpcw3trFeW7bo5o1dG9QRkVJXqnwLTTswooooEFFFFABRRRQAUUUUAFFFFABRRRQAUUUUAFFFFABRRRQAUUUUAFFFFABRRRQAUUUUAFFFFABRRRQAUUUUAFFFFABXjPjj/lIX8L/wDsjPjz/wBO3hCvZq8Z8cf8pC/hf/2Rnx5/6dvCFAHs1FFFABRRRQAUUUUAFeM/sH/8kQ1z/ss3xH/9TXW69mrxn9g//kiGuf8AZZviP/6mut0AezUUUjukaGSRwqqMszHAA9aAFJCgsxAAHJNfFvxe/aM%2BL/8AwUB%2BI2qfsofsJeKptF8F6Tcm0%2BKPxutBmO3H8em6S44muWBw0ynCA5BGVZqnxO%2BLfxM/4Ki/EHVP2Z/2V/FN5oHwX0W7Nn8UPixpx2ya44/1mkaU/RlIOJJxldp7oVWf64%2BEHwf%2BG3wF%2BHOl/Cb4R%2BErTRPD%2BjWwhsNPtEwqjqWYnl3Y5ZnYlmYkkkkmvElUqZxJ06LcaC0lJaOfeMH0j0lNb6xg95Hzk6tXPpulQk44ZaSmtHUa3jB9IdJVFrLWMHbmmc/%2BzT%2Byn8Cf2RvAEfw6%2BBfgS20m1O19QvSPMvNSmA5nuZ2%2BeZzknJOFzhQq4Aj/AGmv2t/gL%2ByJ4KHjb44%2BOIdOS4Yx6VpcCma/1SbjENtbr88rEkDIG1dwLMo5ryr9qj9unxXY/Ec/sg/sS%2BFbXxv8YLuLOoPK5Ok%2BD7c4Bu9SlXhWGQVgHzE4yMsiSaP7Mf8AwTr8F/CXxqf2g/j34yvfip8XbtQ13458TRhlsD/zy0%2B2%2B5ZxLkhdo3AEgFVOwP6zJv6plsFaGjlb3IeSS%2BKS/lWifxST0P2DKeDsl4dyqjj%2BI26NGcVKjhaSUa9aHSWq5cPQl0q1IudRXdGlP%2BIcCNV/4KSft6f8gGzuf2bfhjc/8vt7Gs/jLVYD/cjzs00MO5IlQ4ILg4r139mv/gnj%2Byt%2By1ft4q8B/D86p4rnYvfeOPFVwdR1i6kP3pDcy5MZbuIginuK9uorehlVCFRVqzdWovtS1t/hj8Mf%2B3VfvJmWace5tisFLLsthHBYOWjo0LxU1/0%2Bqt%2B2rvv7Wpy3%2BGlFaBRRRXpnw4UUUUAFFFFABRRRQAUUUUAFFFFABRRRQAUUUUAFFFFABRRRQAUUUUAFFFFABRRRQAUUUUAFeM/sv/8AJb/2jv8Ass1j/wCoV4Xr2avGf2X/APkt/wC0d/2Wax/9QrwvQB7NRRRQAUUUUAFFFFABRRRQAUUUUAFFFFABRRRQAUUUUAFFFFABRRRQBznxc1rxB4f%2BGmtar4V%2BHmr%2BK9RSxZbTw9oNxZRXd4z4TbG99cW9upAYsfMlQYU4JOFPyz4L%2BD37RnjD/glT4N/Zg1n9nbXfC/jjwb8O/C8TaX4i1rR3ttQ1LQ5bCQ2Insb65UJctZFVkYBRHKDJsbKV9k0UAeKfsh%2BCviXaeK/ix8a/ib8OL7wbN8SPHltqml%2BFNVvrO4vbG0tdE0zTFe6axnnt/OkkspZMRTSARNCC24Mq/LH/AAV7%2BGXiRNX8Uarq3xa8Q69Z6n%2Bzt45u7DQNVtdOS00QW%2BueDZSts1taRTuG2gt9olnI2DaV%2BbP6JV8d/wDBTrRv7f8AEOp6WE3M/wCyX8WHjX1dLjws6/qorhzSHtMsrx7wn/6TI%2Bp4FxP1PjfKq/8ALicO/wDyvS/zPpv4G61/wkfwU8H%2BId%2B77f4W0%2B53eu%2B2jbP611NeU/sJ6z/wkP7Evwg1ovua4%2BGOgtIc/wAf9nwBv/Hs16tW2En7TCU594xf3xi/1PM4gw31LP8AGYf%2BStVj/wCA1asf/bQoooroPJCiiigAooooAKKKKACiiigAooooAKKKKACiiigAooooAKKKKACiiigAooooAKKKKACiiigAooooAKKKKACiiigArxnxx/ykL%2BF//ZGfHn/p28IV7NXjPjj/AJSF/C//ALIz48/9O3hCgD2aiiigArjvjx8bPDX7P3w6l%2BInibSNT1TdqVjpmmaLokMcl7qmoXt1FaWlpAsskcfmSTzRrukdI0BLu6IrMOxry/8Aa3%2BDfjP4z/DCwsfhreaZF4m8NeMNF8S6BHrc8kVldXGn38NybWeSKOR4kmjSSHzVjkMRkEgSTZsYAzYf22Phkv7O%2Bq/tC6t4T8S6euia%2B3h/VfB91Z27axBrf9oJp0embIp3gaaW6lhjjdZjA4njkEvltvrHuf2/fB8ehw2ll8DvHt545k8azeFZfhXappJ1y21KLTV1WRZHbUBYLGNPeG6837WUKXEKhjLIsZx/B37MHxXX4E/EXwP8XPhn4C8T6n8Rtc1DxNquijxnf2%2BnpqM9wnkWKXSaf58UcFvb2hXUEjE32hGkW3iwuPPvhl/wT7%2BOvwLnsvjx8MbLwjc/EOT4o6l4p1jwnr/j/V7vTJLW80G30U2v9t3NpcX1xOqWNldG6mtiZJPPj2Ro6NGAfV/we%2BK3g746fCvw98Y/h9dzTaL4m0iDUdNa5gMUqxyoGCSRtzHIuSroeVZWU8g157%2Bwf/yRDXP%2ByzfEf/1NdbrR%2BAX7NEXwx/ZK8O/s0%2BNfFF7ezWWgrba7q/h3VbvSZJ7t2MtzLbTW0sdxbKZnkKbJA6oQCx5JwP8AgnT4esPCX7N194W0q4vpbbTvi38Q7a3l1PVJ725dE8Z60oMtxcO807kDmSR2djksxJJoA90r5H/4KFfFbx18Z/HWjf8ABNP9nLXJLTxR48szdfEPxDafMfC/hcHbPIxHSa4B8pFPUNg7fMRq%2BkvjR8TdH%2BC3wg8U/F/xBj7F4X8PXmq3Klsb0t4XlKj3O3A9yK8B/wCCVHwW1bRfgW37V/xXuG1L4lfGzyvE3ivV549rJbyrusrOIc%2BXBFAybU7FyOiqB5GYyniascDB2503N9VBOzS85t8qfRcz3seFm0qmMrwy2m7e0TlUa3VNNJpf3pt8ifSPO97H0B8H/hJ4A%2BBHwy0X4QfC7w/Fpmg6BYJaadZxDoijlmP8bscsznlmZmOSTXz1%2B25%2B078T/E3xEs/2Bv2MtRX/AIWf4ltPO8S%2BJkBaDwNo7YEl7MR0uGVgIkyGyytwWj3dl%2B3z%2B1tqP7MPwysdE%2BGeirrvxO8dX40X4a%2BGVAZru/fAM7r2ggDB3Y4X7qkrv3C3%2Bw5%2Bx5pX7Jnw3uv7f1x/EfxA8WXX9qfEXxndnfPq%2BovlmwxAIhjLMsacADLY3M2YxMp4ir/Z%2BFfLGKXPJacsekI9pSS/7djru4n7DwxluW8K5LDiTMqUZ6uODoSS5ak4WTrVI9cPQdly7V6yjS/hwrX3v2Uv2Sfg9%2Bx58NE%2BHfwo0dvNuHFxr%2BvXzebf61eH791cyn5pHYliB91c4UAV6dRRXq0aNLD0o0qUVGK0SWyPicyzPMM5x9THY6rKrWqNylOTvKTfVv8ABJWSSSSSSSKKKK1OEKKKKACiiigAooooAKKKKACiiigAooooAKKKKACiiigAooooAKKKKACiiigAooooAKKKKACiiigArxn9l/8A5Lf%2B0d/2Wax/9QrwvXs1eM/sv/8AJb/2jv8Ass1j/wCoV4XoA9mooooAKKKKACiiigAooooAKKKKACiiigAooooAKKKKACiiigAooooAKKKKACvmf9sPRf8AhI/2iNJ8PbN32/8AZn%2BKFtt9d934UXH619MV4j8UNOi1j9vT4c6TP9y6%2BCHj%2BF8%2Bjap4RU/zrOrD2lKUO6a%2B9NfqdWAxDweOo4hfYnCX/gMoy/8AbTL/AOCU%2Btf29/wTp%2BEN9v3eX4Ogts/9cWaHH/jlfQVfKn/BErUpr/8A4Jk/DWG64nshq1pMp/hMerXigf8AfIWvquuHJp%2B0yfDy704f%2Bkr/ACPrPErDrCeIuc0V9nFYhf8Alao/1CiiivSPiQooooAKKKKACiiigAooooAKKKKACiiigAooooAKKKKACiiigAooooAKKKKACiiigAooooAKKKKACiiigAooooAK8Z8cf8pC/hf/ANkZ8ef%2BnbwhXs1eM%2BOP%2BUhfwv8A%2ByM%2BPP8A07eEKAPZqKKKACiiigAooooAK8Z/YP8A%2BSIa5/2Wb4j/APqa63Xs1eM/sH/8kQ1z/ss3xH/9TXW6APNf%2BCxOuaprP7Mujfs1eF7x4tY%2BMvj/AEfwhaND9%2BKCa4Wa4lx/cEcJVieAJK%2Bj9d1rwL8DfhZd%2BINWni0rw14R0F57h/4LSytYST%2BCxp09q%2BZfij/xfn/gsD8Ovh6v77Sfgv8ADvUPFWojrGNT1FxZ28Tj%2B%2BsSiZfTkinf8FTNc1f4vv8ADv8A4J6eB9Qli1P4x%2BJF/wCEmntWxJZeG7ErcX0uR90vtRFzgPh17187LFOjPF41K7TjTgu7jpb51J6/4X2Onw%2ByGPFvG06VWfJR5lGc/wCShh4OriJ/9ur2lu8uRdUiv%2BwD8OfGH7THxLvv%2BCn37QGkNb6j4nsTZ/CLw1ckMPDfhsk7JvT7Rcgl2cfwOcELIUX7BqroWh6R4Z0Sz8N6Bp8VpYafax21laQLtSGGNQqIo7AKAAPQVar1sBhFgsMoXvJ6yl1lJ/E36vbskktEe3xXxFU4mzmeKUPZ0YpU6NNfDSowuqdOP%2BGOsnvOpKpOTcpthRRRXYfNhRRRQAUUUUAFFFFABRRRQAUUUUAFFFFABRRRQAUUUUAFFFFABRRRQAUUUUAFFFFABRRRQAUUUUAFFFFABXjP7L//ACW/9o7/ALLNY/8AqFeF69mrxn9l/wD5Lf8AtHf9lmsf/UK8L0AezUUUUAFFFFABRRRQAUUUUAFFFFABRRRQAUUUUAFFFFABRRRQAUUUUAcd%2B0H8ZtC/Z3%2BB3iz45%2BJNMur6z8KaBc6lJp9jt8%2B8aKMslvFuIXzJGCxruIG5xkgZNcN8Mf2qPHGsaH8StM%2BL3wSGj%2BNPhhax3mq%2BFvCGvPrianbTWP2y2eyne2tXleTbNB5bQoRNA4BZCjt3P7QnwZ0P9on4G%2BLPgZ4k1S6sLPxXoFzpsmoWO3z7NpYyqXEe4FfMjYrIu4EbkGQRkV5b4e/Y0%2BJmo%2BH/AImW3xj%2BPthq%2Bs/FzRp9K8X634W8IzaO9raDTRY2aacrX9wbVot9zOzyNOZJbglfKVFQAEf7BX7eNv8AttxeJHsvDXhVIfD9npVz/bPgTx4PEelSPfRTSGwe6%2ByW3lahbCJTcWuxvKW5tzvbzCF6Hxx/ykL%2BF/8A2Rnx5/6dvCFRfsvfsseN/gr488Q/FP4o/FPRPEuva54U0Hw1EvhfwWdBsLbTtJN81uTbm7ui9wzahPvk8xU2JCiRRhDuw7/4R/CjwN/wU28F%2BPfBPwx8PaPrvif4PeOJfEutaVosFvd6s8ereEvLa5mjQPOV3vguWI3HHU0Acl/wRi/0D9kfVfCHT/hH/ih4l07b/d237vj/AMiV9aV8l/8ABJrOm6Z%2B0D4Qbj%2Bx/wBpzxXDCvpEzW7ofx3GvrSvJyLTKKK7K33Smv0P0DxV18RMyqfz1FP/AMGUsPU/9yBRRRXrH5%2BFFFFABRRRQAUUUUAFFFFABRRRQAUUUUAFFFFABRRRQAUUUUAFFFFABRRRQAUUUUAFFFFABRRRQAUUUUAFFFFABXjPjj/lIX8L/wDsjPjz/wBO3hCvZq8Z8cf8pC/hf/2Rnx5/6dvCFAHs1FFFABRRXn/7S/xxufgD8NYvFmi%2BEV8Qa1qviHS9B8N6HJqP2OO91HUL2K0gWWfy5DBCrS%2BZLII5GWKNyqSMFRgD0Civn68/bkvtA/ZM8eftC%2BLPhGLbxB8N9Xv9I8V%2BFLPXTPa217a3CxNKL426H7D5UkV21y0CtHbsztCGRo68wvv%2BCuthZfBaw%2BKs/hH4bW1rffEW%2B8Kx%2BNdR%2BMYh8BSi2077cbyHxF/ZrebG7brNB9lXddwXEOf3YZwD7Qrxn9g//kiGuf8AZZviP/6mut13PwE%2BKUvxw%2BB/g/4zTeDtR8Ov4s8M2OrtoOrri6083MCTeRKOPnTftPA5HQdK8e/Z98aD4b/sU/Ev4iNL5Y0Dx98VtRL5%2B75Hi3Xpc/8AjtTOcacHN7JN/cm/0IqVI0qcpy2Sbfok3%2BhyP/BMPHxd%2BJnx%2B/bPuv3ieO/ibJo3h65bkSaNo8f2W2kQ9g5aTIHdOc1B%2BwUD%2B1R%2B1f8AFj/goPqI8/RRdHwH8K5G5X%2ByLKTddXcZ7pcXPzKeCNsi1xvwZ8Z/8Mf/APBAGx8dwy/ZbyL4YXN1psucEXuqzyG2f3Pm3kZr6i/Yh%2BCy/s7/ALInw6%2BDT2YgudE8KWkepRhcf6a6CW5OPed5T%2BNfL5bTlXlhaU/sw9tL/HUb5fu5ptei7H13BEZZB4SV8zelfHzjh0%2Bqg4rF4pr/ABOWHot/y3X2j1Oiiivqj5QKKKKACiiigAooooAKKKKACiiigAooooAKKKKACiiigAooooAKKKKACiiigAooooAKKKKACiiigAooooAKKKKACvGf2X/%2BS3/tHf8AZZrH/wBQrwvXs1eM/sv/APJb/wBo7/ss1j/6hXhegD2aiiigAooooAKKKKACiiigAooooAKKKKACiiigAooooAKKKKACiiigAooooAK8Z8cf8pC/hf8A9kZ8ef8Ap28IV7NXzj8aviFb%2BEf%2BCpX7P/hK7kAHir4TfEext1OOZorvwpdgj/tnby8e/tUznGCvLy/F2/UipUjTjzS20X3tJfi0cz/wTl/4lH7SP7VPhDp5Hxl/tHb/ANfdnG%2Bfx2V9aV8l/sbf8Sf/AIKYftceGDwkl34M1GAf3vO0mTzD/wB9ACvrSvLyXTAcvadRfdUn/mfofib73Fftv%2BfmHwc//AsFhn/7aFFFFesfn4UUUUAFFFFABRRRQAUUUUAFFFFABRRRQAUUUUAFFFFABRRRQAUUUUAFFFFABRRRQAUUUUAFFFFABRRRQAUUUUAFeM%2BOP%2BUhfwv/AOyM%2BPP/AE7eEK9mrxnxx/ykL%2BF//ZGfHn/p28IUAezUUUUAFefftL/A66%2BP3w1i8J6L4vXw/rWleIdL17w3rkmnfbI7PUdPvYruBpbfzIzPCzReVLGJI2aKRwrxsVdfQaKAPnCX9hbxxqv7P/i34O%2BIvjtYTar4z8Rf8JRrPiOz8HPEr68NUivkb7M966tpoS2tbQ2TMXeCJw9yxkLDHtf2APjHpXidvjXo37SPhtPiRdfEC/8AFGp3l18NZZfDcr3WiWmitFHpQ1RZonW2sYXE5vWcySXO7KTGNfqeigDzX4P/ALLvw4%2BGf7LHhv8AZK8T6daeMfDWheF7XRLu38SaZDNBqcUUaqfNt2UxBCVyIgNiDCgYUV8ofEi%2B8NfAv/gir8a9M8G6HY6LpFl4r%2BJGh6ZpmmWqW9taQXHjbV7GOGKNAFjQLMFVVAAGABX3zX5x/tWf8VB/wTqg%2BDv3v%2BFiftgeIfDnlf8APXzPiFrM%2B33/AOPfP4V5uczlTymu478kkvVrlX4yR4/EFSVLI8TKO/JJL1kuVfjJHY/te%2BCvtnw0/ZK/4J7W8XHiLxJon9uWQH%2Bs0fQrGOa7jI7DiI5PdK%2B66%2BRvCv8AxfL/AILJeJ9e/wBdpfwQ%2BFlppMS9Vi1fVpDcNID6m0UoR7V9c1hlMIurXqrbmUF/hpRUP/SuY/VuL6ccoyHJMihp7HDKtNf9PMVL2qv5qhDDr0fZhRRRXsnwIUUUUAFFFFABRRRQAUUUUAFFFFABRRRQAUUUUAFFFFABRRRQAUUUUAFFFFABRRRQAUUUUAFFFFABRRRQAUUUUAFeM/sv/wDJb/2jv%2ByzWP8A6hXhevZq8Z/Zf/5Lf%2B0d/wBlmsf/AFCvC9AHs1FFFABRRRQAUUUUAFFFFABRRRQAUUUUAFFFFABRRRQAUUUUAFFFFABRXn/7Vfxquf2c/wBm/wAbfHHT9BTVbzwx4cur7T9MlmMUd3dKh8iF3AJRGlKKzgEqpJwcYrzzwB%2B1J8Sfh9o3xm0n9qOTw/quq/BvR4devtY8D6LPp9rqely6a94uy1ubq5eGZHt7uIgzurhI5Pk3mNAD6Dr8/f8Agq34zuvhd/wUp/Ys%2BKMJZINO1rxNY6jOOkFrf3Hh%2Bxldj/dAnwfrX0B%2BwT%2B1H4q/aW8P6jqnj34j%2BFb/AFYaVpeqjwzoHgPV9El0e2vUmeMmXU52OrWzmN0h1CCKCCc28xReqp8wf8FlfEXw3%2BOHia%2B8G/C74neH9W8X/DT4KeLtc1PTdI1mC5vdCntfEHg25BuIY2L27NFDPgOFJAbHQ15ucc6yutKG8VzL/t1qX/trPIz/ANosmrzp/FGPMvWDjP8AHka%2BZ7b8E/8AiSf8FiPjfpf3f7c%2BGPhrUcf3vJL2%2Bf1xX1pXxPeeP7Pwz/wUr%2BCH7TdqwXw9%2B0B8HpPDxkzmOC8iCapatu7GRJBEo78/WvtiscnnFwrQXSpN/KfLOL%2Balc/VuPZRxccozGm706%2BBw1n3dKNShNesZU4p%2BqfVBRRRXsHwAUUUUAFFFFABRRRQAUUUUAFFFFABRRRQAUUUUAFFFFABRRRQAUUUUAFFFFABRRRQAUUUUAFFFFABRRRQAUUUUAFeM%2BOP%2BUhfwv8A%2ByM%2BPP8A07eEK9mrxnxx/wApC/hf/wBkZ8ef%2BnbwhQB7NRRRQAUUUUAFFFFABX5xa8y%2BLviL%2Bzb8H2YMLz9rj4p%2BJGiJ/wCgR4n1yff/AMB83Oa/R2vy10HxVt/a4Goebx8LPCPx08YZz/qTP4112z3e3EeK8fPJqOBSfWcF8uZSf4QZ5maYapj44fA0/ir16FNes60F%2Bh9Jf8EhI3%2BIfwu%2BIv7XV8pab4wfFXWNY0%2BVh8y6ZBMbS1h%2BieTKB7Gvrivnn/gk74V/4Q3/AIJy/CLSPL2ed4SjvsY/5%2BpJLnP4%2Bdn8a%2Bhq1yWDp5TQvu4qT9Ze8/xkz9M8TMVDF%2BIOaOn8EK06cF2p0WqFNfKFGK9bvqFFFFemfDBRRRQAUUUUAFFFFABRRRQAUUUUAFFFFABRRRQAUUUUAFFFFABRRRQAUUUUAFFFFABRRRQAUUUUAFFFFABRRRQAV4z%2By/8A8lv/AGjv%2ByzWP/qFeF69mrxn9l//AJLf%2B0d/2Wax/wDUK8L0AezUUUUAFFFFABRRRQAUUUUAFFFFABRRRQAUUUUAFFFFABRRRQAUUUUAc78XPhZ4N%2BOHws8RfBv4h2El1oXinRbnStWghmaKRreeJo32OuGjcBiVdSCrAEEECuC%2BGf7HXhrwHbeJI/FfxY8XeOZ/GwlTxzeeMBpjya/CbOKyigmFpZQJFFDBGQiW6whmmmeTzXkLV6/RQB5N%2Bzr%2ByL4X/Z317UPFkXxP8XeMNWvPD2m%2BH7bUvGFzZvJYaPp7XDWljELS2t1KI11OxllWSeQuPMlfau3kv2kfAdj8VP2t/Cnww1Pb9m8R/s8/EjS7jcMjZcX/AITibP4Oa%2Bhq8Z8cf8pC/hf/ANkZ8ef%2BnbwhUzjGcHGWz0%2B/T9SZwjUg4SV000/Rpp/gz4niuPFfxI/4Ia/Dr426DasfGv7P2t2ur2kDH54JNE1CS2liYjooswXI6EKuelfpR4C8aaD8SfA2i/ETwtdefpmvaTb6jp03/PSCeJZY2/FWBr5K/wCCfnhHQl8VftV/sYeK7QS6ZZ/FS/vWsG4CaVr1oJY4QP7uxZMf7xrov%2BCQHi7XP%2BGVLn9n7xrdmXxF8HPGGqeCtWL8M62s5a3cA/weRJGinoRGcV8vkspUK1JS/wCXlPlf%2BOg3D73D8j6zh2cs78F6MZO9XLK/I%2B/scRem/lHE4ZPydXzPqmiiivqj5UKKKKACiiigAooooAKKKKACiiigAooooAKKKKACiiigAooooAKKKKACiiigAooooAKKKKACiiigAooooAKKKKACvGfHH/KQv4X/APZGfHn/AKdvCFezV4z44/5SF/C//sjPjz/07eEKAPZqKKKACvMP2tvjJ4y%2BDHwwsL74a2emS%2BJfEnjDRfDWgSa3BJLZWtxqF/DbG6njikjeWOGOSSbylkjMpiEYePfvX0%2BuN%2BPHwS8NftA/DqX4d%2BJtY1PS9upWOp6XrWiTRx3ul6hZXUV3aXcDSxyR7454Y22yI8bgFHR0ZlIB4lqv7ZPxm8Kfsa/FD4p654f8OX/j34W%2BJtQ8P6k9hZTxaZeyw3EIjvorVrh52BtbmGf7Es7yvKGt45XZkc%2BY23/BT/4tHwPp3hu9utDh8Va18W9S8KaV4hb4Q%2BIi/wBhsdHi1Oa5l8JrO2rxXW6UQLZySo7Q4vsiBlRvfI/2DvAMnwW1j4I6v8VfGt/aa9qf9tanrVzc2CajLr41NdTTWhLFaIq3SXMcBSMILVEtoo1twilTTh/4J%2BeELaxbWrX47/ECPx5J44k8WS/FIPpB1l9QfSk0hgYm086eITp8UVv5ItAmIkkx5w82gD0PwP8AG7wDN%2Bzxovx58Z/GPwpPoE/hu21HUfG9u403R5keNS10guZnNtCzHISWV2QEKzswJP5L/DX4n%2BHPHOkftyfHLwf4kstW0jQvDPinwzpGsabdpPbXNvrPi7XblHhlQlZEcSqwZSQQwIPNfr18FfhD4P8AgH8KNB%2BDngFLr%2ByfD2npaWkl9cma4mxktLLIcb5Hcs7NgZZiQB0r8ipvDtxL%2Bxt%2B2xqFrmO6%2BIH7ZWpeE7aQD5m%2Bz%2BKGkwPXiZx%2BJr5vidyWBTXTnf3Up2/GSPd4JwCzTxO4cw0vgeOoyl/hptzb%2BXLf5H6w/sseFf8AhBf2Yvhz4J8rYdH8CaRZFMdDFZRJj/x2u8plrbQWVtHZ2sYSKKMJGg6KoGAPyp9fQUqapUowXRJfckv0PNzDFzzDMK2KnvUnOb9ZzlN/jJhRRRWhyBRRRQAUUUUAFFFFABRRRQAUUUUAFFFFABRRRQAUUUUAFFFFABRRRQAUUUUAFFFFABRRRQAUUUUAFFFFABRRRQAV4z%2By/wD8lv8A2jv%2ByzWP/qFeF69mrxn9l/8A5Lf%2B0d/2Wax/9QrwvQB7NRRRQAUUUUAFFFFABRRRQAUUUUAFFFFABRRRQAUUUUAFFFFABRRRQAUUUUAFeM%2BOP%2BUhfwv/AOyM%2BPP/AE7eEK9mrxnxx/ykL%2BF//ZGfHn/p28IUAeR6/qX/AAy3/wAFdIfFniaL7P4X/aF8G2uj2uphsRp4i0zIigl7AyWzBYyTlnbaBwar6lrB/Yc/4Kbaj4m8V24tvh1%2B0jHYWtvq4bEGmeKrOIxJDKOiC6iOQ2fnkPTCMR7H%2B3z%2By837Wn7NWsfDnQ7z7D4o0%2BSPWfA2ro%2Bx9P1q1JktpVf%2BDLZjZuoSViOcV578Nb7wD/wVt/4J5yeF/ivp507WruCTSfFVukO258O%2BJLMhXlRTzG6ShZlXPMcgVuGYV8xXw9alipUKXx8zrUr7N7VIPyd/kpp/ZPS8Pc7wHDfEmKynNE3gcfCUZtK8oxnKEpTgus8PWjTxEY/ag6kPtXX1TRXzV/wTq/aa8bfEHw9rf7MH7R9zHB8YPhTcjS/FcMknzaxagD7Nq0WcF45oyhZgPvnJCiRBX0rXvYPFUsbh41qez6PdNaNPs07pruvQ6eIshx3DOc1cuxVnKDVpR1hOEkpQqQf2oVIOM4S6xl0akkUUUV0niBRRRQAUUUUAFFFFABRRRQAUUUUAFFFFABRRRQAUUUUAFFFFABRRRQAUUUUAFFFFABRRRQAUUUUAFFFFABXjPjj/AJSF/C//ALIz48/9O3hCvZq8Z8cf8pC/hf8A9kZ8ef8Ap28IUAezUUUUAFFFFABRRRQAV%2BXWv%2BAZNJ%2BEPgjwI0ab/iL/AMFH/FGqXkanO%2B0h8Wayjk%2B%2B22jNfqLX5y6X/wAVR%2B05%2BzR8OR8yf8NDfG3XLleyfYvEWsNGx%2BrOQPevHzyEZ4Cz3coRX/b04J/hc%2B98MacY8a0MW/8AmHpYqsvL2eDxLv8Ae187H6NUUUV7B8EFFFFABRRRQAUUUUAFFFFABRRRQAUUUUAFFFFABRRRQAUUUUAFFFFABRRRQAUUUUAFFFFABRRRQAUUUUAFFFFABRRRQAV4z%2By//wAlv/aO/wCyzWP/AKhXhevZq8Z/Zf8A%2BS3/ALR3/ZZrH/1CvC9AHs1FFFABRRRQAUUUUAFFFFABRRRQAUUUUAFFFFABRRRQAUUUUAFFFFAHmH7afxe8VfAP9kz4h/GPwNHanW/D/hS8utHe%2BiL28N0IyIpZVBBaJHKu65GVVhkZyPPvhT8evEfwDuvjl4a/aY%2BNmoeLdA%2BD2mWXiKbxzrOk2Vverpk2mPdXEM8enW8EDvC9tO6mOFWMc0SsHZS7%2B%2B%2BNPBvhX4i%2BDtW%2BH3jrQLXVdE13TZ9P1jS72IPDeWs0bRywyKeGR0ZlI7gmuQ%2BDn7Lfwb%2BAu9/hpp%2BvQTXF7LeX93qvjTVdTuNRneCG38y7mvbmWS7KQ28EUXnM/kpGFj2DIIB4P/wS4/bV1v8Aa38UfGO18V/tA%2BDPF9xo3i3TrrQ9D8H6zpt7F4c0u90eyuUsfOsi32ryZ3uIXuXZxJPDOEKoqxp2d/8AE7w34x/4KbeC/Bmk6b4hhvPD3we8cR382q%2BEdRsbSUvq3hLBtrq5gjgvQNpy1u8gXI3Eblz7T4W%2BGPgfwV4r8TeN/DOh/ZtU8Y6lBf8AiS6%2B0yv9suIbSGzjfa7FY8QW8KYQKDs3EFiSfN/HH/KQv4X/APZGfHn/AKdvCFAHs1fFXx40n4i/8E3P2jfEn7a3w58Kz%2BIfg/4/nt5vjF4a0yEtd6BeICn9uWyA4kRgczrwScsTjDR/atMuba2vbaSzvLdJoZkKSxSoGV1IwVIPBBHGK4sbg/rdNcsuWcXeMl0e23VNaSXVPo7NefmOAWOpR5ZclSD5oSWvLK1tusWm1KL3i7aNJr5p/aL/AGW/h/8AtseG/DP7Wf7K3xWt/DnxG0yxW7%2BH/wATdCYPFdwEEi0vFA/0i1fLKyOC0ZLDaQXjc/ZS/wCChFh468Wt%2BzJ%2B1lodv8OPjVpbCC88N38uy013st3pkzHbPHJgkRhi45A3BS1cRrf7L37UX/BP7xZq/wAS/wDgn5p1l4v%2BHGrXzah4g%2BBOqXH2drOVuZZtGuDkRFuvkMNvGFDnYqb%2Bm/FL/gnr/wAFYvBUnwl%2BJeg28finTpHS68FeLIv7M8TeH7tR85hBIlVlIGXhLIcAP3WvDjUq08XeFqWIfxQlf2dW3WMv5uzXvJaThJJSPteHuP8AK8wy%2Blw5xjTklDSjVhZ1aOt2qMptRr4eTfNLDTlGcG3Kk6cnL2n1jRXxtZ%2BAv%2BCmn7D0ZsfhTrdn%2B0R8OrM/6LoPinURY%2BLLCAdI47wjybwKM8yDe3CqqjArsfhN/wAFZP2Q/Hmuj4f/ABN8S6h8KvGUbBLzwj8UdPbSLiFzxgSy/uHBOduJNx4%2BUZxXqU83wykqeJToz7T0T/wz%2BCXykn/dPaxfh1nU6EsXkko5hh1q54e85xX/AE9w7X1ik%2B/NSnBPaq1Zv6YoqHT9QsNWsYtT0q%2BhubaeMPBcW8odJFPIZWHBB9RU1eqmmfAuLi2mrNBRRRQIKKKKACiiigAooooAKKKKACiiigAooooAKKKKACiiigAooooAKKKKACiiigAooooAKKKKACvGfHH/ACkL%2BF//AGRnx5/6dvCFezV4z44/5SF/C/8A7Iz48/8ATt4QoA9mooooAKKK8h/bX%2BJHj74efCfSLL4ZeJW0LWPFnj/w74Yh8RJaQzvpMWoanb289zHHOjxNMIXkEXmI8YlaMujqCjAHr1FfIWt/tI/tAeEv2Ivi3fwfEb%2B1vHPw%2B%2BIF34Q0HxXd6ZaJd62zX9rFabII4VtDqLx3sdrGPKS3e8VC0aRsyL478Sf%2BClXxS%2BCH7Mvj/wAAfE74/wAXgn4nN451nRfCOq/F5vD9nq/h2wtNDsNTklvhZgaTe3pF4n2RLQTRuNRsBKrmK7CgH6P1%2Bb/7MN/Z61/wUs8NadfThYvBtj8XdcckE7Dd/EXWbIHA5ycAADk9K%2B0/gp8evD/iz9krwl%2B0NqHiSXxNaah4MsNSvtT8J6XLqz3sjwIZWgt9OjkeZvMLfJCjYIICjHHwf/wS%2B8Q6f8Wv27vjL8SdKt75LbQtR1bTLdNT0ueyuYUvviLq9%2BElt7hEmgfAy0ciK6nIZQQRXk5r7zw9P%2BarD/yXml%2BiP0DgD9zHOMX/AM%2B8BifvquhQX/pyS%2BZ%2BlH/CYaT/AM%2Bmqf8Agju//jVL/wAJhpP/AD6ar/4I7v8A%2BNV87ePv%2BCyP/BN74X%2BO9a%2BGnjn9o37Drfh3VrnTNYsv%2BEQ1iX7PdW8rRSx747Rkfa6MNykqcZBI5rJ/4fl/8EtP%2Bjof/LJ1v/5CqpZ5ksJOMsTTTX9%2BP%2BZnR8LfEzEUY1aWSYuUZJNNYeq000mmmoWaaaafVNPqfT//AAmGk/8APpqv/gju/wD41R/wmGk/8%2Bmq/wDgju//AI1Xzt4B/wCCyP8AwTe%2BKHjvRfhp4G/aN%2B3a34i1a20zR7L/AIRDWIvtF1cSrFFHvktFRNzuo3MQozkkDmu%2B/b%2B%2BMHxM/Z9/Ym%2BKfxx%2BDdpps3ifwl4H1DVdHXV5mS3WWCFpN77Y5N21QzBNuHZQhZAxdevC43B42Llh6kZpb8rTt62Pn884Z4k4YrQpZxgquGlNNxVWnOm5JOzaU0m0no2uuh6X/wAJhpP/AD6ar/4I7v8A%2BNUf8JhpP/Ppqv8A4I7v/wCNV896n%2B258bfCvxD8c%2BC/iF8CvAmhaf8ADL4eWnibxz4nu/ipdGxt3u4tUa3trbGjiWdQ%2BnxiWV0iKJcFo45nQRScz8Nv%2BClWr/FXVPDOh6t8J9X8L63F8aJfB3iHSFlvLaGRD4P1DX4Z9usaPaXrwukMSbfs9pIJUDLLJCpW46Twz6q/4TDSf%2BfTVf8AwR3f/wAao/4TDSf%2BfTVf/BHd/wDxqvnn9kr9vn4k/tD6folx45/Zg/4R%2B78WfCbRfiD4T0vw941h1We606%2BYI8E5uILKK3uIS8TFQ8iOj5DhlMddT%2B1X4s%2BKupfFr4X/ALPHwt%2BK%2BoeBG8bXWsXWreK9G02xur2K3sLISLbQLf29xbq0k00LMzxOfKglVdrMJEAPXf8AhMNJ/wCfTVf/AAR3f/xqj/hMNJ/59NV/8Ed3/wDGq%2BcoP2hP2kfif/wTI8IfH/4fWlz/AMJzrukeHZvEN34V0Nb24t7SW/tItY1DTrKRZBPKlmby5t4Csu5ljXZOcRvxfgL44/tK/Gj9mr4g6h4F8XfG3UNd%2BGfxKv8AQ9KufDvhTwvpniTxRZixtLy3lvLPXrOG0g2C9CMkcVtM3kD92rloqAPsH/hMNJ/59NV/8Ed3/wDGqP8AhMNJ/wCfTVf/AAR3f/xquW/ZW%2BIutfF/9mH4c/FjxLr2kapqXibwJpGq6lqXh%2BKVLC6uLizilllt1mCyLCzuxRXAcKQGAIIrvaAKWm%2BIdL1W4aztmnSZU3mK5tJYWK5xuAkVSRnjI9au1lXf/I7af/2Crz/0ZbVq0AFFFFABRRRQAUUUUAFFFFABRRRQAUUUUAFFFFABRRRQAUUUUAFFFFABRRRQAV4z%2By//AMlv/aO/7LNY/wDqFeF69mrxn9l//kt/7R3/AGWax/8AUK8L0AezUUUUAFFFFABRRRQAUUUUAFFFFABRRRQAUUUUAFFFFABRRRQAUUUUAFFFFABXjPjj/lIX8L/%2ByM%2BPP/Tt4Qr2avGfHH/KQv4X/wDZGfHn/p28IUAezUUUUAFeQftK/sH/ALKv7WiLefGj4TWN3rEKr9i8T6eWs9UtWX7hS6hKyfKcEKxZMj7pr1%2Bisa%2BHoYmm6daKlF9Gk1%2BJhicLhsZRdKvBTi%2BjSa/H/h/M%2BP4f2X/%2BCmP7M6eT%2By/%2B2BpPxK8O25/0Twj8bdPeS7ijH8C6pa4llbHC%2BYFRcDjGa5z4oftd65qnh4%2BCv%2BCkP/BJnxdNp8WVm1Xw/o9p4u0mP/pv5keGtgeoxl1OBnNfcdFeZPKHGDjQrSjH%2BWVqkPTlndpekjhwuAx%2BVV418qxlWhOLvG0nJRf93manH/t2qj8wfAWlf8Eldc1B7/8AYx/4KNeLPgNqskzM%2BiQ%2BL7rTbBZyfmWaz1ZQknzfwK4XPTtXufhSz/4KyeFdNXVfg9%2B1J8EvjtosY%2BW41/Sn0u8mTsEk052g3e7nB69a%2BnPiT%2Bz58BvjJG0Xxb%2BCvhTxOGXBOv8Ah62u2A9jKjEexHSvCvFH/BGT/gnbr%2BonXdD%2BB03hfU%2BfL1Hwj4kv9PeP/dSObyx/3xXm/wBjY/D60FFf9e51KX/kr9pT/wDJUfdLxO8SpLlzWOEzOP8A1E0VKp/4NcVV/wDK8vXRGaP28/22vhz%2B7%2BPn/BLLxwY4v9ZqHw18R2fiETD%2B8kEex1/3WOaktv8AgtF%2BxZpM6WXxhXx78OLl22m18dfD6/tnVv7rGGOVQfxx71H/AMOsfE3hP5vg1/wUZ/aC8PKv%2BpstR8ZpqlnD6BYZohx9WNMuf2Sf%2BCo3h2B7Xwt/wU70vxFaFdq6d4y%2BD%2BnkFfR5oX3vn3FHPxHQ2Un6qjP8YypS/Af%2BuvC2J/5GPCs6b6ywmNaXyhXVaPyv5Hp/gr/go5%2BwX8Qgg8Mftd/D9nk/1cF94lgs5W9hHcMjE%2B2M16t4a8ceCvGlv9r8HeMNL1aLGfN0zUI51x65RiK%2BEvGv7EP/AAUC15nfxl%2Bz9%2Bxd4/U533Os%2BBr60vn91kjj2qT65ryrxL/wTc%2BLT3H23XP%2BCOXww1K5Q5S58BfG690Vg3qgklCj8QaP7Yzql/Ew9/8At2rH8vaIX9reE2I%2BKOaYV/3sNh8Ql86ValJr5X8j9VqK/Jb/AIZh/aZ8G/8AII/Ym/aj8C7Puj4eftQWV6E/3Q0TZHtR/wAJH%2B3N4IH/ABK9S/br0/Z0%2B1%2BD9N8T4/N49/8AWj/WapD%2BJhpL0v8A%2B3U0w5fC%2Bt/C4glT8q%2BX46n97hGsvuTP1por8lv%2BG1f%2BChvhD/j5/aE%2BOyIvSDxt%2Bx9aW%2B32aS2uXY/Wj/h7r%2B254UH%2BnfGT4fTbev8AwmPwW8TWWf8Ae%2ByI%2BPwo/wBb8uj/ABITj8l/8kg/svg6p/A4my9/454mj/6ewUbH600V%2BTdv/wAF9vjppEv2fX/E3wB1GUfeisbDxbYk/jc2RA/E1s6f/wAHDnj%2BDH2r4CfDnWPX%2Bz/it9h3fT7XajH41UeMsge9Rr/t1/o2VHhvA1v93zrLKnpmOFX/AKcdL8bH6l0V%2Ba2mf8HD1u4Da/8AspaTb/3vsXxv0W4x9MhM1rwf8HFfwGtV3eIvgLr0OPvf2d4v0S7/ACxdLmt48WcPv/l%2Bl6qS/Q2jwXmtV2o18JU/wY/AS/LGRP0Sor4B0r/g4x/Yzv3EM/wd%2BLEbd3g0HT54/wAGjvjn8q6XTP8Agvl%2Bw9fgG58O/EmzB6m58Fscf9%2B5GraPE3D89sTD73/8iaS4A4tW2HjL/DXwkv8A0jGyPtmivj%2B1/wCC6H/BPGQBtR8eeJ7Adzd%2BBtR4/wC%2BImrQs/8AguD/AMEv7tvKb9poQP3S58H6wmPxNpj9a2WfZI/%2BYmn/AOBJfnYS8PeOp/BltaX%2BGHP/AOkTmfWFFfNFj/wWK/4Jpajj7P8AtYaGuf8Anvp97F/6HAK2LH/gqj/wTs1DHkftfeC1z/z31Lyv/QwK1jm%2BUy2xEP8AwOP/AMkKXh9x7BXeU4n/AMJ6z/Kmz3%2BivF7L/go1%2BwLf48j9sv4aLn/nt4ys4/8A0OQVq2f7cv7FGoY%2Bwftg/C2bPQRfEDTW/lNW0cwwEtq0P/A4/wDyRw1OEeLaP8TLsQvXD1//AJSep0VwNp%2B1b%2By5qGPsH7SXgGfPTyfGNk38pa07T47/AAPv8fYfjL4Umz08rxFbN/J61WJw0tpxf/by/wAzhqZLnVH%2BJhasfWlUX500dXRWPa/EPwBff8ePjnR5s9PK1OJv5NWja6npt6M2eoQTA9PKlVv5GtFOEtmjiqYfEUvjg16pr80ieiiiqMQooooAK8Z8cf8AKQv4X/8AZGfHn/p28IV7NXjPjj/lIX8L/wDsjPjz/wBO3hCgD2aiiigArnfix8J/APxv8BXvwz%2BJuhtqGj37wSTQxXs1tLHLDMk8E8M8DpLBNFNFHLHLE6yRyRo6MrKCOiooA8stf2Lv2crT4U3vwS/4QvUJ/DGpW8iX%2BnXvirU7g3E0l698968stw0rXxunM5vi32rzAreblFxqeBf2X/gp8Ofhv4i%2BFHhvwzevpHi6W5l8Uyav4iv9RvtXluLdLaWW5vrueS6mkMEcUId5SyRxRopVUUDv6KAKPhfw1ongvwzp3g7w1ZfZtN0mwhs9PtvMZ/KgiQJGm5yWbCqBkkk45JNfnr/wSE8Pk/Hr9sTx2y5%2B2/tNXmnI5/6dvEWoMQP/AAIFfoxXxL/wSg8Lto3gT9oXxDNH%2B81r9tHxxMjkdYo/EYhUfQNG/wCdcGLp%2B0xWHf8ALKT/APJJL9T63h/GrB5BnEb61aNKn9%2BKpTf/AKbR9tUV8xeP/wDgpr/wgXjvW/Av/Dvn9p7Wv7F1e5sP7Y0D4T/abC/8mVo/PtpftI82F9u9HwNyspwM1kf8PYf%2Bsan7Wn/hm/8A7qrKWdZZGTi6mq/uz/8AlZ%2Bcy4hyaEnGVXVafDU6af8APo%2BtKxfiP8PPBnxc%2BH2ufCr4jaDFqvh/xLpFzpeuaZOzKl1aXETRTREoQwDIzDKkEZyCDzXz54B/4Ka/8J7470XwL/w75/ae0X%2B2tXtrD%2B2Nf%2BE/2awsPOlWPz7mX7SfKhTdvd8HaqscHFezftJ%2BMPid8PPgF4v%2BIPwZ8OWms%2BJ9B0C51LR9FvYXdNSkgQym1AR0IeVUaNG3YV3ViGAKnrw2Mw2Mi5UZXS30kv8A0qMf1O3B4/B5hFyw8uZLR6SXn9qMfwuY0H7Gv7PC%2BFfFPg7U/CGpavZ%2BNfDdvoPiqXxF4r1PU7rUrCD7T5Mclzd3Mk%2B9Ptc%2BJQ4lG5fn%2BRNud4H/AGCv2Wvh7qS654f8BalNqQ8XDxRLq2teMdW1K8uNXGkTaMLua4vLqWWdhp88tviRmXaVONyIy%2BG%2BI/8Ago/8TfiR4WufGP7LjaHqth4j8dzaR8KJYvCS6o3iDTrDSFutVvZGudb0q2hjiu/PgDtcLtFm4CStIPL4nwb%2B3V8Rvi54j0T48WX2m107x58Mv2d9Vj8KNr979h0qfxF4u122v5IPs08W5zF5KMxyk62sKzJLEvlHpOw%2Bw/DH7J3wI8E2OiWHg7wne6UvhzwNaeDtEm07xHqEM1potq8bwWqypOHO0xR5kLGRgCGdgzA6Pxv/AGevhT%2B0Tomn6H8UtH1GYaRqJvtIv9E8RX2kX1jcGGWBnhvLCaG4i3QzTROEkAdJGVgVJFfJvwT/AGqf2oPjd%2B1J8IPGGp%2BKvCP9ieO/hb4/1vw58PdKur3T2tZLO/0aC2g1aUzXCXUsfmlGuEtojbSPcIsUmcn279t/VvEk%2BmfCj4by%2BKtV8O6R47%2BK9hofjPUvDeu3Gn3UNmdPv7pIIb23aKe38%2B9tbO18yNo5GW4KqVLigD0KT9nf4WJ4DHww0ax1jRdAi8OWGhWWmeGfFeo6VHp9jZkm3S0%2Bx3ERs3UHaZYCkroiIzssaKvO3f7Ev7P0/wAPNO%2BFtjYeLdL0jTbq8uQdA%2BJevabd3s925kuZb27tb2O4v3lcl3a5klLMdxJPNeX/AAi1H9oX4p/8E2/G%2Bh/Cf4k3c/jSz1Lx34c8A%2BLNY1UtcXFvp%2Bvapp%2BmXEl5KHLSm1toB9rcOXbE7b9xzxX7Ptn8Vfizp3xv%2BBZ8F%2BPrCw8JeKdGPgnw944/aE1a01WG/l0qKe70%2B78QaTdX10kY3JdCFZrrat0m5VVliiAPszwb4O8K/DvwhpXw/wDAvh%2B00nRNC02DT9H0qwhEcFnawxrHFDGg4VERVUKOAABWlXwX4I8QePfFH7Ov7Lvxc1n42eNp/EVn8XY/DGvG08ZX0dnqCrfX9pdW10sUwj1eONrQRR3VwJDMkYnwrSmvbr7TNV8L/wDBUrw%2B2nePvFcmn%2BLfgp4kvdV8O3niq8m0hLix1Pw5BbTQWDym2t5FS5uMyRxq7%2Be%2B5jkAAHuV3/yO2n/9gq8/9GW1alZd3/yO2n/9gq8/9GW1alABRRRQAUUUUAFFFFABRRRQAUUUUAFFFFABRRRQAUUUUAFFFFABRRRQAUUUUAFeM/sv/wDJb/2jv%2ByzWP8A6hXhevZq8Z/Zf/5Lf%2B0d/wBlmsf/AFCvC9AHs1FFFABRRRQAUUUUAFFFFABRRRQAUUUUAFFFFABRRRQAUUUUAFFFFABRRRQAV4z44/5SF/C//sjPjz/07eEK9mr5w/aP1f416P8At4fCef4HfD/wt4i1JvhH47W7tPFfjC50WCOD%2B1PCRLpLb6fes77to2GNRgk78gKQD6Porxn/AITj/goX/wBGv/Bn/wAPxq3/AMy9H/Ccf8FC/wDo1/4M/wDh%2BNW/%2BZegD2aivGf%2BE4/4KF/9Gv8AwZ/8Pxq3/wAy9H/Ccf8ABQv/AKNf%2BDP/AIfjVv8A5l6APZqK%2BcdJ/aO/bt1j4z6/8Drf9lD4SLqnh3wvpGu3ly/x11TyJINRudSt4UQjwxuLq2lzlgVAAePBYlgvUf8ACcf8FC/%2BjX/gz/4fjVv/AJl6APZqK8Z/4Tj/AIKF/wDRr/wZ/wDD8at/8y9H/Ccf8FC/%2BjX/AIM/%2BH41b/5l6APZqK8Z/wCE4/4KF/8ARr/wZ/8AD8at/wDMvXL%2BAf2jv27fiJ4r8b%2BENH/ZQ%2BEkNx4D8URaFqslz8ddUCTzyaVp%2Bph4tvhgkp5OowqSwU70cYwAzAH0dRXjP/Ccf8FC/wDo1/4M/wDh%2BNW/%2BZej/hOP%2BChf/Rr/AMGf/D8at/8AMvQB7NRXjP8AwnH/AAUL/wCjX/gz/wCH41b/AOZej/hOP%2BChf/Rr/wAGf/D8at/8y9AHs1FfOPwi/aO/bt%2BMvhS78X%2BHP2UPhJbW9n4o1vQpI73466ormfS9VutMncbfDDDY01pIyHOSjKSFOVHUf8Jx/wAFC/8Ao1/4M/8Ah%2BNW/wDmXoA9iubO0vY/JvLWOZD1WVAw/I1i6h8LPhjq2f7U%2BHOg3Oev2jSIXz%2Ba15v/AMJx/wAFC/8Ao1/4M/8Ah%2BNW/wDmXo/4Tj/goX/0a/8ABn/w/Grf/MvUyhCXxJP5ESpwn8ST9Un%2BaOuv/wBmP9mzVM/2n%2Bz14Huc9fP8J2b5/OOse9/Yh/Yu1LP9o/sh/C%2B4z187wBpzfzhrJ/4Tj/goX/0a/wDBn/w/Grf/ADL1y/wR/aO/bt%2BPHwY8IfHHwr%2Byh8JLXS/GfhfT9d0221D466os8MF3bR3EaSBPDDKHCyAMFZhkHBI5rGWEwkvipxf/AG7H/wCRMJYHAz%2BKjB%2BsIv8A9tOpvP8AgnX%2BwPfZ879jL4YLn/nj4IsY/wD0CIVl3f8AwS9/4J5XufO/Y88CLn/nloaR/wDoOK0/%2BE4/4KF/9Gv/AAZ/8Pxq3/zL0f8ACcf8FC/%2BjX/gz/4fjVv/AJl6yeW5dLehD/wCP/yJhLKMplvh6f8A4BD/AOQOauv%2BCSX/AATfu/8AW/sjeFhn/nkkyf8AoMgrPuf%2BCNv/AATOu/8AW/sn6MP%2BuWp3yf8AoM4rtf8AhOP%2BChf/AEa/8Gf/AA/Grf8AzL1y/wAbv2jv27fgP8GPF/xx8VfsofCS60vwZ4X1DXdSttP%2BOuqNPNBaW0lxIkYfwwqlysZChmUZIyQOazeT5TLfDw/8Aj/kZPIcilvhaf8A4Lh/8iYdx/wRK/4Je3X%2Bt/ZXtRn/AJ5%2BKNWT/wBBuxVOb/ghh/wS5k5i/ZokiPrF411r%2Bt4a9Q/4Tj/goX/0a/8ABn/w/Grf/MvR/wAJx/wUL/6Nf%2BDP/h%2BNW/8AmXrN5Hkr3w1P/wAAj/kZ/wCrfD17/U6X/guP%2BR5Jcf8ABB//AIJkzjC/A3Uo/wDc8Z6of/Qrg1Rn/wCCBH/BNCX7nwn1uP8A3PF99/WQ17T/AMJx/wAFC/8Ao1/4M/8Ah%2BNW/wDmXo/4Tj/goX/0a/8ABn/w/Grf/MvUvh/Invhaf/gKNoZJlFP4KEV6Jr8pI8Mm/wCDff8A4Jty/c8CeJY/9zxZcf1JqrL/AMG9H/BOWT7nh/xfH/ueKX/qhr1X4u/tHft2/BrwpaeL/Ef7KHwkube88UaJoUcdl8ddUZxPqmq2umQOd3hhRsWa7jZznIRWIDHCnqP%2BE4/4KF/9Gv8AwZ/8Pxq3/wAy9Q%2BHMgf/ADCw/wDAUdEcvwsPhTXpOovyqo%2Bepf8Ag3b/AOCd8n3YPHCf7vicf1hNV5P%2BDc//AIJ8P9zUPiAn%2B74lh/rbmvo3/hOP%2BChf/Rr/AMGf/D8at/8AMvR/wnH/AAUL/wCjX/gz/wCH41b/AOZepfDPDz/5hYfd/wAE2jR5fhnUXpWrr8sQj5wX/g3V/YXh/wCPLx78Ubb08jxRbDH52hqaP/g3w/ZGtv8Ajx%2BOvxot8dPJ8Y2ox/5J19E/8Jx/wUL/AOjX/gz/AOH41b/5l65fx9%2B0d%2B3b8O/FfgjwhrH7KHwkmuPHniiXQtKktvjrqhSCePStQ1MvLu8MAhPJ06ZQVDHe6DGCWVf6s8PrbDR%2B5/8AyQ3SlLerV/8AB2I/%2BaTymD/ggp%2Bztaf8eP7Vfx%2Bg9PJ8e2q/%2B2VXYP8Agh98J7MYsP22/wBpGDHTy/iRAMflZ17j/wAJx/wUL/6Nf%2BDP/h%2BNW/8AmXo/4Tj/AIKF/wDRr/wZ/wDD8at/8y9WuHcjW1BffL/5MwngKFT4pTf/AHGr/wDzQeMRf8EZPDFr/wAeP/BQX9puHHTb8TkH8rUVJ8Av2Ph%2Byf8A8FCfByJ%2B0j8UfiCuvfBnxjgfEnxT/aX9n%2BRq3hb/AI9v3aeX5nnfP13eVH/dr2P/AITj/goX/wBGv/Bn/wAPxq3/AMy9UPA/gf8Aas8Y/tWeHPjd8bvhx8PfDOjeGfh74h0OGHwr8Q77Wrq7utSvtEuEZkuNIsUijRNLlBYO7FpUAXGSOjD5RluFqqpSp2kvOX5ObX4E0stwlCqqkFK67zqS/CVWS%2B9M91ooor0juCiiigAooooAK%2Bcv2IfDGm%2BFv2ePFl7Y%2BYRe/tDeP9TvnYZwf%2BE81Te3A6KkY/Ba%2Bja%2BSv2SvFn7Z2n/AA98UWfwx%2BAfww1fQk%2BNPxF/s/Ude%2BLuo6bdzL/wmesljJbRaBcpEQ24ACZ8gA5BO0JpNp9i41KkYSgnpK1/Ozuvuep9Qf8ACc%2BCf%2Bhw0v8A8GEf/wAVS/8ACc%2BCf%2Bhw0r/wYR//ABVeW/8ACcf8FC/%2BjX/gz/4fjVv/AJl6P%2BE4/wCChf8A0a/8Gf8Aw/Grf/MvTIPUv%2BE58E/9DhpX/gwj/wDiqP8AhOfBP/Q4aV/4MI//AIqvLf8AhOP%2BChf/AEa/8Gf/AA/Grf8AzL0f8Jx/wUL/AOjX/gz/AOH41b/5l6ANS%2B%2BBn7FGqfDjSfg7qfwd%2BFtx4R0C9%2B2aF4Vn8Paa%2Bm6bc7pG86C2KeVDJullO9FBzI5z8xzoaf8ADj9lHSbW1stK8B/D22hsrTSbSyht9LsUW3g0ueS40yJAFARLSeWWW3UYEEkjvGFZiT5n8Ef2jv27fjx8GPCHxx8K/sofCS10vxn4X0/XdNttQ%2BOuqLPDBd20dxGkgTwwyhwsgDBWYZBwSOa6j/hOP%2BChf/Rr/wAGf/D8at/8y9AGrY/A/wDYq0vxTrfjnTPhB8LrfW/EsF1D4j1iDw/pqXWqx3WPtKXMoTfOsu1fMDkh8DdnFdB430r4AfEzwRc/DL4kab4O8QeG7yFIrvw9rkNpd2M8aMrIjwSho2VWVSAVwCoI6CuK/wCE4/4KF/8ARr/wZ/8AD8at/wDMvR/wnH/BQv8A6Nf%2BDP8A4fjVv/mXoA6oeCf2YR4et/CI8I%2BAxpNp4bn8PWul/YLL7PDpE4jWbTkj27VtZBDEHgA8thEgKnaMYd1%2Bz5%2BwxffC21%2BB178EPhPN4Ksr831n4Pl8NaY2lwXR35nS0MfkpJ%2B8f5wob5255NcT8bv2jv27fgP8GPF/xx8VfsofCS60vwZ4X1DXdSttP%2BOuqNPNBaW0lxIkYfwwqlysZChmUZIyQOa6j/hOP%2BChf/Rr/wAGf/D8at/8y9AFn4j/ALNv7Bfxi0TQPDPxc%2BAfwh8Vab4UtmtvC2n%2BI/C2l30GjwkIDHaxzRstuhEcYKxhRiNf7oxb1P4GfsUa18Ybb9obWfg98Lbvx/ZbPsfjm58PabJrEGxBGmy9ZDOu1AFGHGFAA4rL/wCE4/4KF/8ARr/wZ/8AD8at/wDMvR/wnH/BQv8A6Nf%2BDP8A4fjVv/mXoA9JttX0vXPGNrcaLqMF3Hb6ZcrPLbSh1RnkgKglcgEhG49q3a8Z/wCE4/4KF/8ARr/wZ/8AD8at/wDMvXL/ABd/aO/bt%2BDXhS08X%2BI/2UPhJc2954o0TQo47L466ozifVNVtdMgc7vDCjYs13GznOQisQGOFIB9HUV4z/wnH/BQv/o1/wCDP/h%2BNW/%2BZej/AITj/goX/wBGv/Bn/wAPxq3/AMy9AHs1FeM/8Jx/wUL/AOjX/gz/AOH41b/5l6P%2BE4/4KF/9Gv8AwZ/8Pxq3/wAy9AHs1FfOPj79o79u34d%2BK/BHhDWP2UPhJNcePPFEuhaVJbfHXVCkE8elahqZeXd4YBCeTp0ygqGO90GMEsvUf8Jx/wAFC/8Ao1/4M/8Ah%2BNW/wDmXoA9morxn/hOP%2BChf/Rr/wAGf/D8at/8y9H/AAnH/BQv/o1/4M/%2BH41b/wCZegD2aivGf%2BE4/wCChf8A0a/8Gf8Aw/Grf/MvXL6t%2B0d%2B3bo/xn0D4HXH7KHwkbVPEXhfV9ds7lPjrqnkRwadc6bbzI5PhjcHZtUgKgKQQkmSpChgD6Oorxn/AITj/goX/wBGv/Bn/wAPxq3/AMy9H/Ccf8FC/wDo1/4M/wDh%2BNW/%2BZegD2aivGf%2BE4/4KF/9Gv8AwZ/8Pxq3/wAy9H/Ccf8ABQv/AKNf%2BDP/AIfjVv8A5l6APZqK%2BcdJ/aO/bt1j4z6/8Drf9lD4SLqnh3wvpGu3ly/x11TyJINRudSt4UQjwxuLq2lzlgVAAePBYlgvUf8ACcf8FC/%2BjX/gz/4fjVv/AJl6APZqK8Z/4Tj/AIKF/wDRr/wZ/wDD8at/8y9H/Ccf8FC/%2BjX/AIM/%2BH41b/5l6APZqK8Z/wCE4/4KF/8ARr/wZ/8AD8at/wDMvXL%2BAf2jv27fiJ4r8b%2BENH/ZQ%2BEkNx4D8URaFqslz8ddUCTzyaVp%2Bph4tvhgkp5OowqSwU70cYwAzAH0dRXjP/Ccf8FC/wDo1/4M/wDh%2BNW/%2BZej/hOP%2BChf/Rr/AMGf/D8at/8AMvQB7NXjP7L/APyW/wDaO/7LNY/%2BoV4Xo/4Tj/goX/0a/wDBn/w/Grf/ADL1b/ZW%2BHPxp8H6x8UPHfx00DwvpOqePviFFrlnpXhPxLc6tb2trFoOj6YqvcXFlZs0jSadK5URbQsiDcxzgA9booooAKKKKACiiigAooooAKKKKACiiigAooooAKKKKACiiigAooooAKKKKACvlf8Aae/a0%2BLnww%2BMfizWvAPh3wfJ4Y%2BD/h/w/e%2BNTrWkXE2q6pb6vfypcwWFxHcRpZeRbWcdxmSKcXMhSMiHy/NP1RXjPxn/AGIfhx8bvikfiZrnjnxVpcWo2ukWvi/w1o11app3imDS72S9sYr5ZbeSYLHNNLn7PLAZY5DFMZYwqAA9mooooAKKKKAPmPw5%2B0r8TIf2/wDxR8H/AIjax4e8J%2BG18QWmieDItR%2BEWspdeMYBoEGo4g8RtdrpzSx3dzqAFoIXk8u0mAUFmkX6cryvxZ%2By1B4/%2BMmkfFPx78b/ABrq%2BleHtdj1rQPAFwdMi0ax1CO3eCOcNDZJey7PMkkVJrqSMSPu2fIgX1SgAooooA8X/wCCgvxd%2BOH7P37I/jT49fAK98KR6x4J0K71y6g8YaLc31td2lrbSzPboltdWzJK7IiiQuVQFiUfgV5/48/a0%2BLngv48eLdT8KeHfCEXw88IfGPwj8PvGVnNpFwdb1XVddg0VI9Qhu0uFhjjg/tzSYzFJbyvIkM%2BJY9qCvYf2sf2cbL9rT4Ea9%2Bz7rXxV8U%2BEdJ8T2Utjrl/4QXTvtdzZSxPFNbbr%2B0uo0R1flkRZAVG115zxcH7APg6f4i2fxF8VfHHx9rrHWdJ1zxNo2oS6VFY%2BJ9c0xI0sdWvY7awiZbiIQWmFtmggY2NsXiYx5IB73RRRQAV4v8Atk/F344fBK18A%2BMfhZe%2BFP7G1D4meHPD3i%2Bx8QaLc3N1c2uq6zY6aDZyw3UKW0ka3Msm%2BRJ1JRF2ck17RXlX7V37Lb/tVeG9C8Lz/H3xv4Gt9C8SWGuo3guHR2e7vbG8gvLNpTqWn3g2xXFvG4WMIG5WTep2gA84/Z5/aV%2BJmt/tVeLfgj8UNX8PeE9Oh8U63b%2BCfCUnwi1nTLnXraF0lN/b61cXf2DUHYyTSyxW0BfkuxXDE/TleS6T%2ByiH%2BMmi/GX4j/tAeO/Gs3he7vLvwnoXiEaTDYaPdXNvJayXES2Gn20sr/Z5p4V8%2BSVUWd9oBII9aoAKKKKAPD/27vi58eP2fvg1q/x1%2BFHjHwLY6f4W0W5vL3RfFnhm9v7nxDe5RbPTLOS2vYPs81xKRbo3lXTNLPEFhY/K3n/wR/a%2B%2BM%2BufEvwV/a3gzwlpHw08b/E/wAUfDbwr4a07S5o9X0S/wBAh1bfPPci4a3mgkbw/qaLDHbxGNWtj5kmWA9P/aV/ZBg/aS8eeCPiBN%2B0D478IXPgG7ub3RbHwxFo09nJeyoI1vJoNT068R54Y/MWGQBTGJ5SPmbIq%2BA/2Gvh74D%2BMtv8XYfiL4u1KDTtd1PXtE8Ialc2X9k6VreoxvHqGqQJFapP584nuyyvM8KNfXJjij8zgA9rooooAK%2BX/wBrn48ftL/Bb4iaf4U0qHwB410fxzDrVtovw5i8H30msJa2mh3V3Jf3E4vXiurYXUVvbSQi1iB%2B3woJjIyJJ9QV4dN%2BxNcR/tH%2BK/2mtE/ar%2BJenav4t02HTrnS4YPD89pp9nDA0cNtZtc6TLc28Syu91sWba87l3Dg7aAGfsIftB%2BN/j38Pby6%2BK/j7Rr7xdpws21/w3ZfC7V/CN5oDz2yyiC5stXup7hwW3%2BXcAJHIqHaG2k17pXm/wADv2btO%2BDPifxJ8Q9Y%2BKXinxx4q8VxWNvrHifxc1gty9pZib7LapFp9ra20cUbXNy42whma4kLM2Rj0igAooooA%2BOf%2BCgn7cfxU/Yw8c/2nrmi6B4x8Ivo2o63b%2BFZfhzqdlLbppujX2pJJ/wkU10%2BmT3f2vTRssVgS6EcyygbYWkb179mj4u/HPVvip43/Z6/aOufCmoeJ/COk6HrUeteCtIubCxubHVBeRpEYLm5uXWWK4067Uv5uJEMTbIySorfHX9hLwR%2B05rV1a/H/wCLfjXxR4LuZLiRfhleSabDosUk1jNZM2%2B3so76QCO4mYJLdOgd9235EC9P%2Bz5%2BzNpHwDvNe8RXfxQ8WeOPEfiQ2cereKvGtxZvfS21pEYrW1H2O2t4ViiDysMR72eeV3Z2cmgD0qiiigAr4j/an/bK/az%2BDfxq8QfCjwd4b8OeNdTsNFuNd8MBPgf4gjk0UDUdMtUMLfbnHiaQWOqXHnf2X5TwtCVlEYmEdfbleH69%2BxbqfiXx6fidrX7XPxRm1vT4LyLwbeFNAA8KrdTQyT/ZIxpOydmjgW33Xq3TLEzhSruzkA6r9lj4sP8AGT4RweLL34maN4qv4dRurLVL7RvBl94dFtcRSsrWs2m6hcT3VnPGMK8czh8/NtUMBXo1cN8A/gL4e%2BAHhnU9G0rxTrfiDUdf1641vxJ4k8RzQNe6rfzBEaeUW8UMCYjihiVIYo41SJAFGCT3NABRRRQAUUUUAFFFFABRRRQBR8UeIbDwl4a1HxXqoc2umWM13ciJct5caF2wO5wpr5z/AGJv2k/jX4/8U6P4M%2BNnh7wZZjx18LbL4jeGYfBmlXFoNMjvLgm70%2B7M1xKLuaN7m2f7YggE7SzEwR7QX%2Blru0tb%2B1lsb23SaGaNo5opVDK6kYKkHggjjFeQ/szfsV%2BAv2YNVfV9A%2BIPi3xLLbeGLHwz4dHiy9tZhoGhWbyPb6bam3t4S0amT5pZzNcSCOLzJn8tcAHsVFFFABXC/tQePPiL8LP2aPiJ8Tvg/wCFF17xb4c8C6vqnhbQ2sZroajqNvZyy21sYYGWWYSSoieXGwdt2FIJBruqzvFuiX/iXwxqHh/S/Feo6Fc3tpJDb61pCwNdWLspAmiFxFLEXU8gSRumR8ysMggHl37FPxan%2BKHwzvrLVviF4f1nU/Duqrp15pmifDDU/Bz6GgtoJIrO40rVLme5hcI4kV28tHili2Jgb39irzz4D/s7aT8DrzxL4jufiJ4k8Y%2BJPF%2Bow3niLxT4rezF3dGG3S3giEdjbW1tFFHGgCrHCmSzsxZmZj6HQAUUUUAfLn7VH7WPxQ/Zw%2BL3jiy%2BJWjeEvEXwvsP2d/F/j220K30S4TVXbRBpaz21xcyXL280U6304CC2QqETLvlhXb/ALM/xf8Aj5qnxc8Zfs6/tLP4SvPFHhjwx4e8Sx6r4K0m5sbKSy1Z9St1tjDc3Ny5lhuNIuwZRIFkR4m8uM7lqD4x/sK%2BHfjp8dW%2BMvjz47eOZdNm8Fan4Rvvh7DBov8AYl3o2pLbfb7SQvprXpE7WkDs4ug6lCEZEZkPSfs7/su6H%2Bz7fa14jn%2BKHi3xv4h1%2B1sLK/8AE/ja5tJL02Fiki2dmPsltbx%2BVEZ7hwShkd7mV3d2bNAHp9FFFABXyJ8a/wBpf9rbwZrv7QHgS38K%2BDPFl74C8P8AhTxJ8NrHSfh/qd/Oseo6rqUIS8tYrx5dRngXTY51NsLclyQq/KrV9d14XL%2BxR4hi%2BOnjb4/6F%2B2h8VtK1bxvpFjplzY2Vn4Ya0022sri5ns0thLoryfujeXSgzPKXWciTzCqFQDq/wBlT4tzfGX4UjxNqPxO0bxTqNrqtzY6tdaP4Iv/AA2bO4ib5rWfTNRuJ7q0nRSu5JmDEMrbVVhXpNcJ8A/gHoHwB0LWbHT/ABbrniPVfE3iCXXPE/ibxJLbte6rfyQwwebILaGGCMLBb28KpFFGipCgC5yT3dABRRRQB8bftLftd/tLfs8fGaD4baynwz8a32twQTeEYdO8LXtpL4LvNS8Q6Z4e0ibU5XvphdRTtq84LRLZyOLG6WMMvmGL3H9lX4v/ABI%2BIw8f/D74xHRJ/FXw08eN4a1nVfDWnTWdhqfmaXp2rW9xDbzTzyW%2BbXVLdHjaaXEkcmGIIxwtt/wTV8JNdfEN/EP7S/xO1m3%2BJOvHXNYt9SOheZZ6lFcQz6fc211FpaXSmwe3txaRvNJFEsKBkfnPrHwD%2BAuh/APw9q2m2Xi/XPEmreItem1rxP4o8SvbG/1e%2Bkjih86YWsEEC7IILeBEiijRY4I1C8EkA7qiiigBlz9p%2BzSfY9nnbD5Xm527scZxzjNfEHxW/a5/bT%2BGnxE1z4bW9t4D8Z694YvfDVvq3jrwR8Fdf1aPw5b6s1497YS6VZ6lPd3M0cNlY3RMU6fu7qFpYEBiaT7eu4ZLi1lt4bqSB5I2VZ4gpeMkYDLuBXI6jII9Qa%2Be/gx%2BwF4g%2BAnw2uPhp8O/26vjFFHdas%2BpzazeWXhOfUJbuV5ZLmeaZ9CP2mSd5d0kk4kfMabCgGCAes/AT4h2XxW%2BDvh/4hWHxA0bxUmp6eJH1/w/pM1haXcgJWQpazzTS2xV1ZGhkkd42VlY7lIHX1yXwL%2BC/hL9n34X6d8KfBVzf3FlYS3VxNfarcia6vru6uZbq6upnCqGlmuJ5pX2qq7pDtVVwo62gAqj4nh8SXPhvULfwbqdjZavJZSrpd5qdg91bQXBQiOSWGOWJpo1bBZFkjLAEB1J3C9Wb4x0G/8AFHha/wDDul%2BLdS0G5vLV4oNa0cQG6sXI4miFxFLEXU8gSRuhx8ysMigD4e%2BG/wC3Z%2B1r8YPinrfwS%2BFmm/D5PGem2uu30njPxX8Lta0NdU0zSLXRZUsZdEvL5NQ0%2BV7vxDsSaeZ4/KhkuEhdZ0B%2BxvgF8WtN%2BPnwJ8FfHXRtNls7Pxr4S03XrSzmfc8EV5ax3CxsQBkqJACfUV4tq/8AwTI8D61rl98Rbv8AaU%2BKafEDVkvLXWviTbXukQ6tf6ZdW1rbTaYUTTRZw2xSytGHkW0UqyQLKsocsx%2Bg/Bfg/wANfDzwdpPgDwZpMWn6PoemQafpNhDnZbW0MaxxRrnnCoqqPpQBp0UUUAcv8adR8caN8Lda1v4c%2BIbHS9WsLM3UN9qHg%2B98QIkcZDygadYzwXN5I0SuqRQyBy7LhXPyN8W/CX/goj8fvEnjTQ9T8b3HhHwJ4M1KedfEHji8%2BBniKa21i/h1%2B60hEuZVvo08MzyWtpa/uNUaSWB5VjfOwJX238TPBmu%2BPfCU3hzw38Utf8G3kksbxa/4ZisXu4NrAlVW/trmBgwBUh4m4Jxg4I8Vuv8AgnN4U1DwfcfDbVv2kPibd%2BGNc1Ca/wDHmgTXGjiLxhdz3jXVxNfSrpouIvNLLC0dnLaxCGJI1RRu3AH0TRRRQAUUUUAFFFFABRRRQAUUUUAFFFFABRRRQAUUUUAFFFFABRRRQAUUUUAFFFFABRRRQAUUUUAFFFFABRRRQAUUUUAFFFFABRRRQAUUUUAFFFFABRRRQAUUUUAFFFFABRRRQAUUUUAFFFFABRRRQAUUUUAFFFFABRRRQAUUUUAFFFFABRRRQAUUUUAFFFFABRRRQAUUUUAFFFFABRRRQAUUUUAFFFFABRRRQAUUUUAFFFFABRRRQAUUUUAFFFFABRRRQAUUUUAFFFFABRRRQAUUUUAFFFFABRRRQAUUUUAFFFFABRRRQAUUUUAFFFFABRRRQB//2Q%3D%3D\">"
      ]
     },
     "metadata": {},
     "output_type": "display_data"
    }
   ],
   "source": [
    "s.run(tf.global_variables_initializer())\n",
    "\n",
    "BATCH_SIZE = 512\n",
    "EPOCHS = 40\n",
    "\n",
    "# for logging the progress right here in Jupyter (for those who don't have TensorBoard)\n",
    "simpleTrainingCurves = matplotlib_utils.SimpleTrainingCurves(\"cross-entropy\", \"accuracy\")\n",
    "\n",
    "for epoch in range(EPOCHS):  # we finish an epoch when we've looked at all training samples\n",
    "    \n",
    "    batch_losses = []\n",
    "    for batch_start in range(0, X_train_flat.shape[0], BATCH_SIZE):  # data is already shuffled\n",
    "        _, batch_loss = s.run([step, loss], {input_X: X_train_flat[batch_start:batch_start+BATCH_SIZE], \n",
    "                                             input_y: y_train_oh[batch_start:batch_start+BATCH_SIZE]})\n",
    "        # collect batch losses, this is almost free as we need a forward pass for backprop anyway\n",
    "        batch_losses.append(batch_loss)\n",
    "\n",
    "    train_loss = np.mean(batch_losses)\n",
    "    val_loss = s.run(loss, {input_X: X_val_flat, input_y: y_val_oh})  # this part is usually small\n",
    "    train_accuracy = accuracy_score(y_train, s.run(classes, {input_X: X_train_flat}))  # this is slow and usually skipped\n",
    "    valid_accuracy = accuracy_score(y_val, s.run(classes, {input_X: X_val_flat}))  \n",
    "    simpleTrainingCurves.add(train_loss, val_loss, train_accuracy, valid_accuracy)"
   ]
  },
  {
   "cell_type": "markdown",
   "metadata": {},
   "source": [
    "# Adding more layers"
   ]
  },
  {
   "cell_type": "markdown",
   "metadata": {},
   "source": [
    "Let's add a couple of hidden layers and see how that improves our validation accuracy!\n",
    "\n",
    "Rememeber that we need non-linearities for hidden layers (e.g. `tf.sigmoid`)!\n",
    "\n",
    "Now add 1 or more hidden layers to the code above and restart training.\n",
    "You're aiming for ~0.98 validation accuracy here."
   ]
  },
  {
   "cell_type": "code",
   "execution_count": null,
   "metadata": {},
   "outputs": [],
   "source": []
  }
 ],
 "metadata": {
  "kernelspec": {
   "display_name": "Python 3",
   "language": "python",
   "name": "python3"
  },
  "language_info": {
   "codemirror_mode": {
    "name": "ipython",
    "version": 3
   },
   "file_extension": ".py",
   "mimetype": "text/x-python",
   "name": "python",
   "nbconvert_exporter": "python",
   "pygments_lexer": "ipython3",
   "version": "3.7.2"
  }
 },
 "nbformat": 4,
 "nbformat_minor": 1
}
